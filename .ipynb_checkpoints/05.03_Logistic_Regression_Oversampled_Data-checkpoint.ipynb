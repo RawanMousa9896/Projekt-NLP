{
 "cells": [
  {
   "cell_type": "markdown",
   "id": "349a73f3",
   "metadata": {},
   "source": [
    "### Import Libraries"
   ]
  },
  {
   "cell_type": "code",
   "execution_count": 1,
   "id": "bbb805f1",
   "metadata": {},
   "outputs": [],
   "source": [
    "# Import necessary libraries\n",
    "import pandas as pd\n",
    "from sklearn.model_selection import train_test_split, GridSearchCV\n",
    "from sklearn.linear_model import LogisticRegression\n",
    "from sklearn.metrics import confusion_matrix, accuracy_score, classification_report\n",
    "from sklearn.preprocessing import StandardScaler\n",
    "from imblearn.over_sampling import SMOTE\n",
    "import seaborn as sns\n",
    "import matplotlib.pyplot as plt\n",
    "import warnings\n",
    "from sklearn.feature_extraction.text import TfidfVectorizer\n",
    "from sklearn.preprocessing import StandardScaler\n",
    "import numpy as np\n",
    "# Suppress warnings\n",
    "warnings.filterwarnings('ignore')\n"
   ]
  },
  {
   "cell_type": "markdown",
   "id": "8bb43fe2",
   "metadata": {},
   "source": [
    "### Load and Prepare the Data"
   ]
  },
  {
   "cell_type": "code",
   "execution_count": 2,
   "id": "21eababc",
   "metadata": {},
   "outputs": [
    {
     "data": {
      "text/html": [
       "<div>\n",
       "<style scoped>\n",
       "    .dataframe tbody tr th:only-of-type {\n",
       "        vertical-align: middle;\n",
       "    }\n",
       "\n",
       "    .dataframe tbody tr th {\n",
       "        vertical-align: top;\n",
       "    }\n",
       "\n",
       "    .dataframe thead th {\n",
       "        text-align: right;\n",
       "    }\n",
       "</style>\n",
       "<table border=\"1\" class=\"dataframe\">\n",
       "  <thead>\n",
       "    <tr style=\"text-align: right;\">\n",
       "      <th></th>\n",
       "      <th>title</th>\n",
       "      <th>release_year</th>\n",
       "      <th>language</th>\n",
       "      <th>genre</th>\n",
       "      <th>overview</th>\n",
       "      <th>vote_average</th>\n",
       "      <th>vote_count</th>\n",
       "      <th>popularity</th>\n",
       "      <th>cleaned_overview</th>\n",
       "    </tr>\n",
       "  </thead>\n",
       "  <tbody>\n",
       "    <tr>\n",
       "      <th>0</th>\n",
       "      <td>Limbo</td>\n",
       "      <td>2020</td>\n",
       "      <td>Amerikanisch</td>\n",
       "      <td>Humor</td>\n",
       "      <td>offbeat observation refugee waiting granted as...</td>\n",
       "      <td>6.881</td>\n",
       "      <td>105.0</td>\n",
       "      <td>6.726</td>\n",
       "      <td>offbeat observation refugee waiting granted as...</td>\n",
       "    </tr>\n",
       "    <tr>\n",
       "      <th>1</th>\n",
       "      <td>Fear, Inc.</td>\n",
       "      <td>2016</td>\n",
       "      <td>Amerikanisch</td>\n",
       "      <td>Horror</td>\n",
       "      <td>horror junkie joe foster get live ultimate sca...</td>\n",
       "      <td>5.655</td>\n",
       "      <td>187.0</td>\n",
       "      <td>11.771</td>\n",
       "      <td>horror junkie joe foster get live ultimate sca...</td>\n",
       "    </tr>\n",
       "    <tr>\n",
       "      <th>2</th>\n",
       "      <td>Dear David</td>\n",
       "      <td>2023</td>\n",
       "      <td>Amerikanisch</td>\n",
       "      <td>Horror</td>\n",
       "      <td>shortly comic artist adam responds internet tr...</td>\n",
       "      <td>4.588</td>\n",
       "      <td>57.0</td>\n",
       "      <td>14.591</td>\n",
       "      <td>shortly comic artist adam responds internet tr...</td>\n",
       "    </tr>\n",
       "    <tr>\n",
       "      <th>3</th>\n",
       "      <td>The 5th Wave</td>\n",
       "      <td>2016</td>\n",
       "      <td>Amerikanisch</td>\n",
       "      <td>Action</td>\n",
       "      <td>16yearold cassie sullivan try survive world de...</td>\n",
       "      <td>5.943</td>\n",
       "      <td>5692.0</td>\n",
       "      <td>26.711</td>\n",
       "      <td>yearold cassie sullivan try survive world deva...</td>\n",
       "    </tr>\n",
       "    <tr>\n",
       "      <th>4</th>\n",
       "      <td>The Scientist</td>\n",
       "      <td>2020</td>\n",
       "      <td>Amerikanisch</td>\n",
       "      <td>Horror</td>\n",
       "      <td>unconventional scientist struggling care termi...</td>\n",
       "      <td>6.046</td>\n",
       "      <td>108.0</td>\n",
       "      <td>8.472</td>\n",
       "      <td>unconventional scientist struggling care termi...</td>\n",
       "    </tr>\n",
       "  </tbody>\n",
       "</table>\n",
       "</div>"
      ],
      "text/plain": [
       "           title  release_year      language   genre  \\\n",
       "0          Limbo          2020  Amerikanisch   Humor   \n",
       "1     Fear, Inc.          2016  Amerikanisch  Horror   \n",
       "2     Dear David          2023  Amerikanisch  Horror   \n",
       "3   The 5th Wave          2016  Amerikanisch  Action   \n",
       "4  The Scientist          2020  Amerikanisch  Horror   \n",
       "\n",
       "                                            overview  vote_average  \\\n",
       "0  offbeat observation refugee waiting granted as...         6.881   \n",
       "1  horror junkie joe foster get live ultimate sca...         5.655   \n",
       "2  shortly comic artist adam responds internet tr...         4.588   \n",
       "3  16yearold cassie sullivan try survive world de...         5.943   \n",
       "4  unconventional scientist struggling care termi...         6.046   \n",
       "\n",
       "   vote_count  popularity                                   cleaned_overview  \n",
       "0       105.0       6.726  offbeat observation refugee waiting granted as...  \n",
       "1       187.0      11.771  horror junkie joe foster get live ultimate sca...  \n",
       "2        57.0      14.591  shortly comic artist adam responds internet tr...  \n",
       "3      5692.0      26.711  yearold cassie sullivan try survive world deva...  \n",
       "4       108.0       8.472  unconventional scientist struggling care termi...  "
      ]
     },
     "execution_count": 2,
     "metadata": {},
     "output_type": "execute_result"
    }
   ],
   "source": [
    "# Load the dataset \n",
    "df = pd.read_csv('data/oversampled_movies_2015_2023_genres.csv')\n",
    "df.head()"
   ]
  },
  {
   "cell_type": "code",
   "execution_count": 3,
   "id": "85135662",
   "metadata": {},
   "outputs": [
    {
     "name": "stdout",
     "output_type": "stream",
     "text": [
      "title               0\n",
      "release_year        0\n",
      "language            0\n",
      "genre               0\n",
      "overview            0\n",
      "vote_average        0\n",
      "vote_count          0\n",
      "popularity          0\n",
      "cleaned_overview    0\n",
      "dtype: int64\n"
     ]
    }
   ],
   "source": [
    "# Remove lines that contain NAN-Values\n",
    "df_cleaned = df.dropna()\n",
    "\n",
    "# Check whether there are still missing values\n",
    "print(df_cleaned.isnull().sum())\n"
   ]
  },
  {
   "cell_type": "code",
   "execution_count": 4,
   "id": "6c72b36e",
   "metadata": {},
   "outputs": [],
   "source": [
    "# Define the features \n",
    "X = df_cleaned['cleaned_overview'] + ' ' + df_cleaned['genre'] \n",
    "# Predict the language\n",
    "y = df_cleaned['language']  \n",
    "\n",
    "# Split the data into training and testing sets\n",
    "X_train, X_test, y_train, y_test = train_test_split(X, y, test_size=0.2, random_state=42)\n"
   ]
  },
  {
   "cell_type": "markdown",
   "id": "b454fd80",
   "metadata": {},
   "source": [
    "### Feature Engineering"
   ]
  },
  {
   "cell_type": "code",
   "execution_count": 5,
   "id": "17d4bf65",
   "metadata": {},
   "outputs": [],
   "source": [
    "# Apply TF-IDF Vectorizer to the combined text features\n",
    "tfidf_vectorizer = TfidfVectorizer(max_features=5000)\n",
    "X_train_tfidf = tfidf_vectorizer.fit_transform(X_train)\n",
    "X_test_tfidf = tfidf_vectorizer.transform(X_test)\n"
   ]
  },
  {
   "cell_type": "code",
   "execution_count": null,
   "id": "54938ce2",
   "metadata": {},
   "outputs": [
    {
     "name": "stdout",
     "output_type": "stream",
     "text": [
      "Fitting 5 folds for each of 15 candidates, totalling 75 fits\n"
     ]
    }
   ],
   "source": [
    "# Initialize Logistic Regression with class balancing and parameter tuning\n",
    "log_reg = LogisticRegression(max_iter=500)\n",
    "\n",
    "# Define the parameter grid for Logistic Regression\n",
    "param_grid_reduced = [\n",
    "    {'penalty': ['l1', 'l2'], 'C': [1, 10, 100], 'solver': ['liblinear']},\n",
    "    {'penalty': ['elasticnet'], 'C': [1, 10, 100], 'solver': ['saga'], 'l1_ratio': [0, 0.5, 1]}\n",
    "]\n",
    "\n",
    "# Apply Grid Search with Cross-Validation to find the best parameters\n",
    "grid_search_reduced = GridSearchCV(log_reg, param_grid_reduced, cv=5, verbose=1)\n",
    "grid_search_reduced.fit(X_train_tfidf, y_train)\n"
   ]
  },
  {
   "cell_type": "code",
   "execution_count": null,
   "id": "e4e00c17",
   "metadata": {},
   "outputs": [],
   "source": [
    "# Output best parameters found\n",
    "print(\"Best parameters found: \", grid_search_reduced.best_params_)"
   ]
  },
  {
   "cell_type": "code",
   "execution_count": null,
   "id": "2476d34e",
   "metadata": {},
   "outputs": [],
   "source": [
    "# Make predictions on the test set\n",
    "y_pred = grid_search_reduced.predict(X_test_tfidf)\n",
    "\n",
    "# Evaluate the model performance\n",
    "accuracy = accuracy_score(y_test, y_pred)\n",
    "print(f'Accuracy: {accuracy}')\n"
   ]
  },
  {
   "cell_type": "code",
   "execution_count": null,
   "id": "d8a92980",
   "metadata": {},
   "outputs": [],
   "source": [
    "# Calculate confusion matrix\n",
    "conf_matrix = confusion_matrix(y_test, y_pred)\n",
    "\n",
    "# Visualize confusion matrix\n",
    "plt.figure(figsize=(8, 6))\n",
    "sns.heatmap(conf_matrix, annot=True, fmt='d', cmap='Blues', \n",
    "            xticklabels=grid_search_reduced.classes_, \n",
    "            yticklabels=grid_search_reduced.classes_)\n",
    "plt.xlabel('Predicted Label')\n",
    "plt.ylabel('True Label')\n",
    "plt.title('Confusion Matrix')\n",
    "plt.show()"
   ]
  },
  {
   "cell_type": "code",
   "execution_count": null,
   "id": "baeea57a",
   "metadata": {},
   "outputs": [],
   "source": [
    "# Generate a classification report\n",
    "classification_report_result = classification_report(y_test, y_pred)\n",
    "classification_rep = classification_report(y_test, y_pred, target_names=grid_search_reduced.classes_)\n",
    "\n",
    "print(classification_report_result)\n"
   ]
  },
  {
   "cell_type": "code",
   "execution_count": null,
   "id": "7eb0c146",
   "metadata": {},
   "outputs": [],
   "source": []
  }
 ],
 "metadata": {
  "kernelspec": {
   "display_name": "Python 3 (ipykernel)",
   "language": "python",
   "name": "python3"
  },
  "language_info": {
   "codemirror_mode": {
    "name": "ipython",
    "version": 3
   },
   "file_extension": ".py",
   "mimetype": "text/x-python",
   "name": "python",
   "nbconvert_exporter": "python",
   "pygments_lexer": "ipython3",
   "version": "3.11.9"
  }
 },
 "nbformat": 4,
 "nbformat_minor": 5
}
