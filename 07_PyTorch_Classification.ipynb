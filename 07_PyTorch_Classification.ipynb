{
 "cells": [
  {
   "cell_type": "markdown",
   "metadata": {},
   "source": [
    "# Model 3: Text Classification with PyTorch"
   ]
  },
  {
   "cell_type": "code",
   "execution_count": 1,
   "metadata": {},
   "outputs": [],
   "source": [
    "import torch\n",
    "import pandas as pd\n",
    "from torch import nn\n",
    "from torch.utils.data import Dataset, DataLoader\n",
    "from collections import Counter\n",
    "import re\n",
    "import time\n",
    "from sklearn.model_selection import train_test_split\n",
    "from sklearn.metrics import accuracy_score, confusion_matrix, ConfusionMatrixDisplay\n",
    "import matplotlib.pyplot as plt"
   ]
  },
  {
   "cell_type": "markdown",
   "metadata": {},
   "source": [
    "### Load the dataset"
   ]
  },
  {
   "cell_type": "code",
   "execution_count": 3,
   "metadata": {},
   "outputs": [
    {
     "data": {
      "text/html": [
       "<div>\n",
       "<style scoped>\n",
       "    .dataframe tbody tr th:only-of-type {\n",
       "        vertical-align: middle;\n",
       "    }\n",
       "\n",
       "    .dataframe tbody tr th {\n",
       "        vertical-align: top;\n",
       "    }\n",
       "\n",
       "    .dataframe thead th {\n",
       "        text-align: right;\n",
       "    }\n",
       "</style>\n",
       "<table border=\"1\" class=\"dataframe\">\n",
       "  <thead>\n",
       "    <tr style=\"text-align: right;\">\n",
       "      <th></th>\n",
       "      <th>title</th>\n",
       "      <th>release_year</th>\n",
       "      <th>language</th>\n",
       "      <th>genre</th>\n",
       "      <th>overview</th>\n",
       "      <th>vote_average</th>\n",
       "      <th>vote_count</th>\n",
       "      <th>popularity</th>\n",
       "      <th>cleaned_overview</th>\n",
       "    </tr>\n",
       "  </thead>\n",
       "  <tbody>\n",
       "    <tr>\n",
       "      <th>0</th>\n",
       "      <td>Pad Man</td>\n",
       "      <td>2018</td>\n",
       "      <td>Indisch</td>\n",
       "      <td>Humor</td>\n",
       "      <td>upon realizing extent woman affected menses se...</td>\n",
       "      <td>7.420</td>\n",
       "      <td>200.0</td>\n",
       "      <td>7.036</td>\n",
       "      <td>upon realizing extent woman affected menses se...</td>\n",
       "    </tr>\n",
       "    <tr>\n",
       "      <th>1</th>\n",
       "      <td>Tamasha</td>\n",
       "      <td>2015</td>\n",
       "      <td>Indisch</td>\n",
       "      <td>Humor</td>\n",
       "      <td>meeting vacation ved tara sense connection vow...</td>\n",
       "      <td>6.720</td>\n",
       "      <td>141.0</td>\n",
       "      <td>8.770</td>\n",
       "      <td>meeting vacation ved tara sense connection vow...</td>\n",
       "    </tr>\n",
       "    <tr>\n",
       "      <th>2</th>\n",
       "      <td>Tu Jhoothi Main Makkaar</td>\n",
       "      <td>2023</td>\n",
       "      <td>Indisch</td>\n",
       "      <td>Humor</td>\n",
       "      <td>earn extra cash mickey help couple break life ...</td>\n",
       "      <td>6.253</td>\n",
       "      <td>144.0</td>\n",
       "      <td>10.045</td>\n",
       "      <td>earn extra cash mickey help couple break life ...</td>\n",
       "    </tr>\n",
       "    <tr>\n",
       "      <th>3</th>\n",
       "      <td>Hindi Medium</td>\n",
       "      <td>2017</td>\n",
       "      <td>Indisch</td>\n",
       "      <td>Humor</td>\n",
       "      <td>mita raj batra affluent couple delhi chandni c...</td>\n",
       "      <td>7.300</td>\n",
       "      <td>166.0</td>\n",
       "      <td>7.001</td>\n",
       "      <td>mita raj batra affluent couple delhi chandni c...</td>\n",
       "    </tr>\n",
       "    <tr>\n",
       "      <th>4</th>\n",
       "      <td>Dilwale</td>\n",
       "      <td>2015</td>\n",
       "      <td>Indisch</td>\n",
       "      <td>Humor</td>\n",
       "      <td>raj mafia member one day meet girl meera chasi...</td>\n",
       "      <td>6.648</td>\n",
       "      <td>301.0</td>\n",
       "      <td>11.501</td>\n",
       "      <td>raj mafia member one day meet girl meera chasi...</td>\n",
       "    </tr>\n",
       "  </tbody>\n",
       "</table>\n",
       "</div>"
      ],
      "text/plain": [
       "                     title  release_year language  genre  \\\n",
       "0                  Pad Man          2018  Indisch  Humor   \n",
       "1                  Tamasha          2015  Indisch  Humor   \n",
       "2  Tu Jhoothi Main Makkaar          2023  Indisch  Humor   \n",
       "3             Hindi Medium          2017  Indisch  Humor   \n",
       "4                  Dilwale          2015  Indisch  Humor   \n",
       "\n",
       "                                            overview  vote_average  \\\n",
       "0  upon realizing extent woman affected menses se...         7.420   \n",
       "1  meeting vacation ved tara sense connection vow...         6.720   \n",
       "2  earn extra cash mickey help couple break life ...         6.253   \n",
       "3  mita raj batra affluent couple delhi chandni c...         7.300   \n",
       "4  raj mafia member one day meet girl meera chasi...         6.648   \n",
       "\n",
       "   vote_count  popularity                                   cleaned_overview  \n",
       "0       200.0       7.036  upon realizing extent woman affected menses se...  \n",
       "1       141.0       8.770  meeting vacation ved tara sense connection vow...  \n",
       "2       144.0      10.045  earn extra cash mickey help couple break life ...  \n",
       "3       166.0       7.001  mita raj batra affluent couple delhi chandni c...  \n",
       "4       301.0      11.501  raj mafia member one day meet girl meera chasi...  "
      ]
     },
     "execution_count": 3,
     "metadata": {},
     "output_type": "execute_result"
    }
   ],
   "source": [
    "df = pd.read_csv('data/movies_2015_2023_preprocessed_genre.csv')\n",
    "df.head()"
   ]
  },
  {
   "cell_type": "markdown",
   "metadata": {},
   "source": [
    "## Prepare data tuples (language, cleaned overview)"
   ]
  },
  {
   "cell_type": "code",
   "execution_count": 4,
   "metadata": {},
   "outputs": [
    {
     "name": "stdout",
     "output_type": "stream",
     "text": [
      "Total number of value tuples: 15500\n",
      "First tuple: ('Indisch', 'upon realizing extent woman affected menses set create sanitary pad machine provide inexpensive sanitary pad woman rural india')\n",
      "Last tuple: ('Italienisch', 'several european underground director turn ancient rule mankind inside shocking goresoaked interpretation god law bible world ending commandment dying')\n"
     ]
    }
   ],
   "source": [
    "value_tuples = [(row['language'], row['cleaned_overview']) for _, row in df.iterrows()]\n",
    "print(f'Total number of value tuples: {len(value_tuples)}')\n",
    "print(f'First tuple: {value_tuples[0]}')\n",
    "print(f'Last tuple: {value_tuples[-1]}')"
   ]
  },
  {
   "cell_type": "markdown",
   "metadata": {},
   "source": [
    "### Train/test split"
   ]
  },
  {
   "cell_type": "code",
   "execution_count": 5,
   "metadata": {},
   "outputs": [
    {
     "name": "stdout",
     "output_type": "stream",
     "text": [
      "Training set size: 10850\n",
      "Testing set size: 4650\n"
     ]
    }
   ],
   "source": [
    "train_value_tuples, test_value_tuples = train_test_split(value_tuples, test_size=0.3, shuffle=True, random_state=0)\n",
    "print(f'Training set size: {len(train_value_tuples)}')\n",
    "print(f'Testing set size: {len(test_value_tuples)}')"
   ]
  },
  {
   "cell_type": "code",
   "execution_count": 6,
   "metadata": {},
   "outputs": [],
   "source": [
    "# Custom tokenizer using regex\n",
    "def custom_tokenizer(text):\n",
    "    if isinstance(text, float):  # Handle NaN values\n",
    "        return []\n",
    "    text = text.lower()\n",
    "    tokens = re.findall(r'\\b\\w+\\b', text)\n",
    "    return tokens"
   ]
  },
  {
   "cell_type": "code",
   "execution_count": 7,
   "metadata": {},
   "outputs": [],
   "source": [
    "# Build vocabulary\n",
    "def build_vocab_from_tokens(data_iter):\n",
    "    vocab_counter = Counter()\n",
    "    for _, text in data_iter:\n",
    "        tokens = custom_tokenizer(text)\n",
    "        vocab_counter.update(tokens)\n",
    "    \n",
    "    vocab = {token: idx for idx, token in enumerate(vocab_counter, start=1)}  # Start index from 1\n",
    "    vocab['<unk>'] = 0  # Unknown token\n",
    "    return vocab\n",
    "\n",
    "# Build vocabulary from the training data\n",
    "vocab = build_vocab_from_tokens(train_value_tuples)\n",
    "\n",
    "# Text pipeline to convert text into token indices\n",
    "text_pipeline = lambda x: [vocab[token] if token in vocab else vocab['<unk>'] for token in custom_tokenizer(x)]\n"
   ]
  },
  {
   "cell_type": "markdown",
   "metadata": {},
   "source": [
    "### mapping from language labels"
   ]
  },
  {
   "cell_type": "code",
   "execution_count": 8,
   "metadata": {},
   "outputs": [
    {
     "name": "stdout",
     "output_type": "stream",
     "text": [
      "Language to integer mapping: {'Amerikanisch': 0, 'Spanisch': 1, 'Indisch': 2, 'Deutsch': 3, 'Italienisch': 4, 'Französisch': 5, '<unk>': 6}\n"
     ]
    }
   ],
   "source": [
    "# Step 1: Create a mapping from language labels to integers, include '<unk>' for unknown labels\n",
    "language_mapping = {language: idx for idx, language in enumerate(set([label for label, _ in train_value_tuples]))}\n",
    "language_mapping['<unk>'] = len(language_mapping)  # Adding an unknown label placeholder\n",
    "\n",
    "# Step 2: Update the label_pipeline to map language strings to integers\n",
    "label_pipeline = lambda x: language_mapping.get(x, language_mapping['<unk>'])\n",
    "\n",
    "# Example: Print the mapping to verify\n",
    "print(f\"Language to integer mapping: {language_mapping}\")"
   ]
  },
  {
   "cell_type": "markdown",
   "metadata": {},
   "source": [
    "### Create custom dataset class"
   ]
  },
  {
   "cell_type": "code",
   "execution_count": 9,
   "metadata": {},
   "outputs": [],
   "source": [
    "class MovieDataset(Dataset):\n",
    "    def __init__(self, data, vocab, text_pipeline, label_pipeline):\n",
    "        self.data = data\n",
    "        self.vocab = vocab\n",
    "        self.text_pipeline = text_pipeline\n",
    "        self.label_pipeline = label_pipeline\n",
    "\n",
    "    def __len__(self):\n",
    "        return len(self.data)\n",
    "\n",
    "    def __getitem__(self, idx):\n",
    "        label, text = self.data[idx]\n",
    "        processed_text = torch.tensor(self.text_pipeline(text), dtype=torch.int64)\n",
    "        return self.label_pipeline(label), processed_text"
   ]
  },
  {
   "cell_type": "markdown",
   "metadata": {},
   "source": [
    "### Collate function for batching"
   ]
  },
  {
   "cell_type": "code",
   "execution_count": 10,
   "metadata": {},
   "outputs": [],
   "source": [
    "def collate_batch(batch):\n",
    "    label_list, text_list, offsets = [], [], [0]\n",
    "    for (label, text) in batch:\n",
    "        label_list.append(label)\n",
    "        offsets.append(text.size(0))\n",
    "        text_list.append(text)\n",
    "    label_list = torch.tensor(label_list, dtype=torch.int64)\n",
    "    offsets = torch.tensor(offsets[:-1]).cumsum(dim=0)\n",
    "    text_list = torch.cat(text_list)\n",
    "    return label_list.to(device), text_list.to(device), offsets.to(device)"
   ]
  },
  {
   "cell_type": "markdown",
   "metadata": {},
   "source": [
    "### Define the model"
   ]
  },
  {
   "cell_type": "code",
   "execution_count": 11,
   "metadata": {},
   "outputs": [],
   "source": [
    "# Model definition\n",
    "class TextClassificationModel(nn.Module):\n",
    "    def __init__(self, vocab_size, embed_dim, num_class):\n",
    "        super(TextClassificationModel, self).__init__()\n",
    "        self.embedding = nn.EmbeddingBag(vocab_size, embed_dim, sparse=True)\n",
    "        self.fc = nn.Linear(embed_dim, num_class)\n",
    "        self.init_weights()\n",
    "\n",
    "    def init_weights(self):\n",
    "        initrange = 0.5\n",
    "        self.embedding.weight.data.uniform_(-initrange, initrange)\n",
    "        self.fc.weight.data.uniform_(-initrange, initrange)\n",
    "        self.fc.bias.data.zero_()\n",
    "\n",
    "    def forward(self, text, offsets):\n",
    "        embedded = self.embedding(text, offsets)\n",
    "        return self.fc(embedded)"
   ]
  },
  {
   "cell_type": "markdown",
   "metadata": {},
   "source": [
    "### Functions for training"
   ]
  },
  {
   "cell_type": "code",
   "execution_count": 12,
   "metadata": {},
   "outputs": [],
   "source": [
    "# Hyperparameters and device setup\n",
    "EPOCHS = 10\n",
    "LR = 5\n",
    "BATCH_SIZE = 64\n",
    "device = torch.device(\"cuda\" if torch.cuda.is_available() else \"cpu\")\n",
    "\n",
    "# Instantiate model\n",
    "num_class = len(language_mapping)\n",
    "vocab_size = len(vocab)\n",
    "embed_size = 64\n",
    "model = TextClassificationModel(vocab_size, embed_size, num_class).to(device)\n",
    "\n",
    "# Loss and optimizer\n",
    "criterion = nn.CrossEntropyLoss()\n",
    "optimizer = torch.optim.SGD(model.parameters(), lr=LR)\n",
    "scheduler = torch.optim.lr_scheduler.StepLR(optimizer, step_size=1, gamma=0.9)\n",
    "\n",
    "# Dataset and DataLoader\n",
    "train_dataset = MovieDataset(train_value_tuples, vocab, text_pipeline, label_pipeline)\n",
    "test_dataset = MovieDataset(test_value_tuples, vocab, text_pipeline, label_pipeline)\n",
    "\n",
    "train_dataloader = DataLoader(train_dataset, batch_size=BATCH_SIZE, shuffle=True, collate_fn=collate_batch)\n",
    "test_dataloader = DataLoader(test_dataset, batch_size=BATCH_SIZE, shuffle=True, collate_fn=collate_batch)\n",
    "\n",
    "# Training function\n",
    "def train(dataloader):\n",
    "    model.train()\n",
    "    total_acc, total_count = 0, 0\n",
    "    for idx, (label, text, offsets) in enumerate(dataloader):\n",
    "        optimizer.zero_grad()\n",
    "        predicted_label = model(text, offsets)\n",
    "        loss = criterion(predicted_label, label)\n",
    "        loss.backward()\n",
    "        # Remove gradient clipping temporarily\n",
    "        optimizer.step()\n",
    "        total_acc += (predicted_label.argmax(1) == label).sum().item()\n",
    "        total_count += label.size(0)\n",
    "    return total_acc / total_count"
   ]
  },
  {
   "cell_type": "markdown",
   "metadata": {},
   "source": [
    "### Functions for evaluation"
   ]
  },
  {
   "cell_type": "code",
   "execution_count": 13,
   "metadata": {},
   "outputs": [],
   "source": [
    "# Evaluation function\n",
    "def evaluate(dataloader):\n",
    "    model.eval()\n",
    "    total_acc, total_count = 0, 0\n",
    "    with torch.no_grad():\n",
    "        for idx, (label, text, offsets) in enumerate(dataloader):\n",
    "            predicted_label = model(text, offsets)\n",
    "            total_acc += (predicted_label.argmax(1) == label).sum().item()\n",
    "            total_count += label.size(0)\n",
    "    return total_acc / total_count"
   ]
  },
  {
   "cell_type": "markdown",
   "metadata": {},
   "source": [
    "### Running the model"
   ]
  },
  {
   "cell_type": "code",
   "execution_count": 14,
   "metadata": {},
   "outputs": [
    {
     "name": "stdout",
     "output_type": "stream",
     "text": [
      "| End of epoch 1 | Time: 0.53s | Train Accuracy: 0.313 | Valid Accuracy: 0.279\n",
      "| End of epoch 2 | Time: 0.44s | Train Accuracy: 0.464 | Valid Accuracy: 0.489\n",
      "| End of epoch 3 | Time: 0.45s | Train Accuracy: 0.607 | Valid Accuracy: 0.559\n",
      "| End of epoch 4 | Time: 0.47s | Train Accuracy: 0.719 | Valid Accuracy: 0.591\n",
      "| End of epoch 5 | Time: 0.43s | Train Accuracy: 0.807 | Valid Accuracy: 0.620\n",
      "| End of epoch 6 | Time: 0.43s | Train Accuracy: 0.872 | Valid Accuracy: 0.637\n",
      "| End of epoch 7 | Time: 0.45s | Train Accuracy: 0.923 | Valid Accuracy: 0.658\n",
      "| End of epoch 8 | Time: 0.47s | Train Accuracy: 0.955 | Valid Accuracy: 0.673\n",
      "| End of epoch 9 | Time: 0.42s | Train Accuracy: 0.977 | Valid Accuracy: 0.669\n",
      "| End of epoch 10 | Time: 0.49s | Train Accuracy: 0.991 | Valid Accuracy: 0.675\n"
     ]
    }
   ],
   "source": [
    "# Training loop\n",
    "total_accu = None\n",
    "for epoch in range(1, EPOCHS + 1):\n",
    "    epoch_start_time = time.time()\n",
    "    \n",
    "    # Train for one epoch\n",
    "    train_accuracy = train(train_dataloader)\n",
    "    \n",
    "    # Evaluate on validation set (using test_dataloader)\n",
    "    val_accuracy = evaluate(test_dataloader)\n",
    "    \n",
    "    if total_accu is not None and total_accu > val_accuracy:\n",
    "        scheduler.step()  # Adjust learning rate if accuracy decreases\n",
    "    else:\n",
    "        total_accu = val_accuracy\n",
    "    \n",
    "    print(f'| End of epoch {epoch} | Time: {time.time() - epoch_start_time:.2f}s | '\n",
    "          f'Train Accuracy: {train_accuracy:.3f} | Valid Accuracy: {val_accuracy:.3f}')"
   ]
  },
  {
   "cell_type": "markdown",
   "metadata": {},
   "source": [
    "### Evaluating the model"
   ]
  },
  {
   "cell_type": "code",
   "execution_count": 15,
   "metadata": {},
   "outputs": [],
   "source": [
    "# Test and evaluate the model\n",
    "def get_predictions(dataloader):\n",
    "    model.eval()\n",
    "    labels, predicted_labels = [], []\n",
    "    with torch.no_grad():\n",
    "        for label, text, offsets in dataloader:\n",
    "            predicted_label = model(text, offsets).argmax(1)\n",
    "            labels.append(label)\n",
    "            predicted_labels.append(predicted_label)\n",
    "    return torch.cat(labels), torch.cat(predicted_labels)\n",
    "\n",
    "# Combine test results\n",
    "labels, predicted_labels = get_predictions(test_dataloader)"
   ]
  },
  {
   "cell_type": "markdown",
   "metadata": {},
   "source": [
    "### Accuracy Score"
   ]
  },
  {
   "cell_type": "code",
   "execution_count": 16,
   "metadata": {},
   "outputs": [
    {
     "name": "stdout",
     "output_type": "stream",
     "text": [
      "Test Accuracy: 0.675\n"
     ]
    }
   ],
   "source": [
    "# Accuracy score\n",
    "test_accuracy = accuracy_score(labels.cpu(), predicted_labels.cpu())\n",
    "print(f'Test Accuracy: {test_accuracy:.3f}')"
   ]
  },
  {
   "cell_type": "markdown",
   "metadata": {},
   "source": [
    "### Get predictions for the test set"
   ]
  },
  {
   "cell_type": "code",
   "execution_count": 17,
   "metadata": {},
   "outputs": [],
   "source": [
    "def get_predictions(dataloader):\n",
    "    model.eval()\n",
    "    all_labels = []\n",
    "    all_predictions = []\n",
    "    \n",
    "    with torch.no_grad():\n",
    "        for idx, (labels, text, offsets) in enumerate(dataloader):\n",
    "            predicted_output = model(text, offsets)\n",
    "            predicted_labels = predicted_output.argmax(1)\n",
    "            all_labels.extend(labels.tolist())\n",
    "            all_predictions.extend(predicted_labels.tolist())\n",
    "    \n",
    "    return all_labels, all_predictions\n",
    "\n",
    "# Get actual and predicted labels\n",
    "actual_labels, pred_labels = get_predictions(test_dataloader)"
   ]
  },
  {
   "cell_type": "markdown",
   "metadata": {},
   "source": [
    "### Generate confusion matrix and display"
   ]
  },
  {
   "cell_type": "code",
   "execution_count": 18,
   "metadata": {},
   "outputs": [
    {
     "data": {
      "image/png": "[encoded data removed]",
      "text/plain": [
       "<Figure size 640x480 with 2 Axes>"
      ]
     },
     "metadata": {},
     "output_type": "display_data"
    }
   ],
   "source": [
    "\n",
    "from sklearn.metrics import confusion_matrix, ConfusionMatrixDisplay\n",
    "import matplotlib.pyplot as plt\n",
    "\n",
    "conf_matrix = confusion_matrix(actual_labels, pred_labels)\n",
    "\n",
    "# Remove '<unk>' if it's not present in the predictions\n",
    "display_labels = list(language_mapping.keys())\n",
    "if '<unk>' not in pred_labels:\n",
    "    display_labels.remove('<unk>')\n",
    "\n",
    "# Display the confusion matrix\n",
    "disp = ConfusionMatrixDisplay(confusion_matrix=conf_matrix, display_labels=display_labels)\n",
    "disp.plot(cmap='Blues')\n",
    "plt.show()"
   ]
  }
 ],
 "metadata": {
  "kernelspec": {
   "display_name": "Python 3",
   "language": "python",
   "name": "python3"
  },
  "language_info": {
   "codemirror_mode": {
    "name": "ipython",
    "version": 3
   },
   "file_extension": ".py",
   "mimetype": "text/x-python",
   "name": "python",
   "nbconvert_exporter": "python",
   "pygments_lexer": "ipython3",
   "version": "3.12.1"
  }
 },
 "nbformat": 4,
 "nbformat_minor": 2
}
