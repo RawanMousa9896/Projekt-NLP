{
 "cells": [
  {
   "cell_type": "code",
   "execution_count": 1,
   "metadata": {},
   "outputs": [],
   "source": [
    "#!pip show torch\n",
    "#!pip show torchtext"
   ]
  },
  {
   "cell_type": "code",
   "execution_count": 2,
   "metadata": {},
   "outputs": [],
   "source": [
    "# Import necessary libraries\n",
    "import pandas as pd\n"
   ]
  },
  {
   "cell_type": "code",
   "execution_count": null,
   "metadata": {},
   "outputs": [
    {
     "data": {
      "text/html": [
       "<div>\n",
       "<style scoped>\n",
       "    .dataframe tbody tr th:only-of-type {\n",
       "        vertical-align: middle;\n",
       "    }\n",
       "\n",
       "    .dataframe tbody tr th {\n",
       "        vertical-align: top;\n",
       "    }\n",
       "\n",
       "    .dataframe thead th {\n",
       "        text-align: right;\n",
       "    }\n",
       "</style>\n",
       "<table border=\"1\" class=\"dataframe\">\n",
       "  <thead>\n",
       "    <tr style=\"text-align: right;\">\n",
       "      <th></th>\n",
       "      <th>title</th>\n",
       "      <th>release_year</th>\n",
       "      <th>language</th>\n",
       "      <th>genre</th>\n",
       "      <th>overview</th>\n",
       "      <th>vote_average</th>\n",
       "      <th>vote_count</th>\n",
       "      <th>popularity</th>\n",
       "      <th>cleaned_overview</th>\n",
       "    </tr>\n",
       "  </thead>\n",
       "  <tbody>\n",
       "    <tr>\n",
       "      <th>0</th>\n",
       "      <td>Pad Man</td>\n",
       "      <td>2018</td>\n",
       "      <td>Indisch</td>\n",
       "      <td>Humor</td>\n",
       "      <td>upon realizing extent woman affected menses se...</td>\n",
       "      <td>7.420</td>\n",
       "      <td>200.0</td>\n",
       "      <td>7.036</td>\n",
       "      <td>upon realizing extent woman affected menses se...</td>\n",
       "    </tr>\n",
       "    <tr>\n",
       "      <th>1</th>\n",
       "      <td>Tamasha</td>\n",
       "      <td>2015</td>\n",
       "      <td>Indisch</td>\n",
       "      <td>Humor</td>\n",
       "      <td>meeting vacation ved tara sense connection vow...</td>\n",
       "      <td>6.720</td>\n",
       "      <td>141.0</td>\n",
       "      <td>8.770</td>\n",
       "      <td>meeting vacation ved tara sense connection vow...</td>\n",
       "    </tr>\n",
       "    <tr>\n",
       "      <th>2</th>\n",
       "      <td>Tu Jhoothi Main Makkaar</td>\n",
       "      <td>2023</td>\n",
       "      <td>Indisch</td>\n",
       "      <td>Humor</td>\n",
       "      <td>earn extra cash mickey help couple break life ...</td>\n",
       "      <td>6.253</td>\n",
       "      <td>144.0</td>\n",
       "      <td>10.045</td>\n",
       "      <td>earn extra cash mickey help couple break life ...</td>\n",
       "    </tr>\n",
       "    <tr>\n",
       "      <th>3</th>\n",
       "      <td>Hindi Medium</td>\n",
       "      <td>2017</td>\n",
       "      <td>Indisch</td>\n",
       "      <td>Humor</td>\n",
       "      <td>mita raj batra affluent couple delhi chandni c...</td>\n",
       "      <td>7.300</td>\n",
       "      <td>166.0</td>\n",
       "      <td>7.001</td>\n",
       "      <td>mita raj batra affluent couple delhi chandni c...</td>\n",
       "    </tr>\n",
       "    <tr>\n",
       "      <th>4</th>\n",
       "      <td>Dilwale</td>\n",
       "      <td>2015</td>\n",
       "      <td>Indisch</td>\n",
       "      <td>Humor</td>\n",
       "      <td>raj mafia member one day meet girl meera chasi...</td>\n",
       "      <td>6.648</td>\n",
       "      <td>301.0</td>\n",
       "      <td>11.501</td>\n",
       "      <td>raj mafia member one day meet girl meera chasi...</td>\n",
       "    </tr>\n",
       "  </tbody>\n",
       "</table>\n",
       "</div>"
      ],
      "text/plain": [
       "                     title  release_year language  genre  \\\n",
       "0                  Pad Man          2018  Indisch  Humor   \n",
       "1                  Tamasha          2015  Indisch  Humor   \n",
       "2  Tu Jhoothi Main Makkaar          2023  Indisch  Humor   \n",
       "3             Hindi Medium          2017  Indisch  Humor   \n",
       "4                  Dilwale          2015  Indisch  Humor   \n",
       "\n",
       "                                            overview  vote_average  \\\n",
       "0  upon realizing extent woman affected menses se...         7.420   \n",
       "1  meeting vacation ved tara sense connection vow...         6.720   \n",
       "2  earn extra cash mickey help couple break life ...         6.253   \n",
       "3  mita raj batra affluent couple delhi chandni c...         7.300   \n",
       "4  raj mafia member one day meet girl meera chasi...         6.648   \n",
       "\n",
       "   vote_count  popularity                                   cleaned_overview  \n",
       "0       200.0       7.036  upon realizing extent woman affected menses se...  \n",
       "1       141.0       8.770  meeting vacation ved tara sense connection vow...  \n",
       "2       144.0      10.045  earn extra cash mickey help couple break life ...  \n",
       "3       166.0       7.001  mita raj batra affluent couple delhi chandni c...  \n",
       "4       301.0      11.501  raj mafia member one day meet girl meera chasi...  "
      ]
     },
     "execution_count": 3,
     "metadata": {},
     "output_type": "execute_result"
    }
   ],
   "source": [
    "df = pd.read_csv(\"data/movies_2015_2023_preprocessed_genre.csv\")\n",
    "df.head()"
   ]
  },
  {
   "cell_type": "code",
   "execution_count": 4,
   "metadata": {},
   "outputs": [
    {
     "data": {
      "text/html": [
       "<div>\n",
       "<style scoped>\n",
       "    .dataframe tbody tr th:only-of-type {\n",
       "        vertical-align: middle;\n",
       "    }\n",
       "\n",
       "    .dataframe tbody tr th {\n",
       "        vertical-align: top;\n",
       "    }\n",
       "\n",
       "    .dataframe thead th {\n",
       "        text-align: right;\n",
       "    }\n",
       "</style>\n",
       "<table border=\"1\" class=\"dataframe\">\n",
       "  <thead>\n",
       "    <tr style=\"text-align: right;\">\n",
       "      <th></th>\n",
       "      <th>title</th>\n",
       "      <th>release_year</th>\n",
       "      <th>language</th>\n",
       "      <th>genre</th>\n",
       "      <th>overview</th>\n",
       "      <th>vote_average</th>\n",
       "      <th>vote_count</th>\n",
       "      <th>popularity</th>\n",
       "      <th>cleaned_overview</th>\n",
       "    </tr>\n",
       "  </thead>\n",
       "  <tbody>\n",
       "    <tr>\n",
       "      <th>0</th>\n",
       "      <td>Pad Man</td>\n",
       "      <td>2018</td>\n",
       "      <td>Indisch</td>\n",
       "      <td>Humor</td>\n",
       "      <td>upon realizing extent woman affected menses se...</td>\n",
       "      <td>7.420</td>\n",
       "      <td>200.0</td>\n",
       "      <td>7.036</td>\n",
       "      <td>upon realizing extent woman affected menses se...</td>\n",
       "    </tr>\n",
       "    <tr>\n",
       "      <th>1</th>\n",
       "      <td>Tamasha</td>\n",
       "      <td>2015</td>\n",
       "      <td>Indisch</td>\n",
       "      <td>Humor</td>\n",
       "      <td>meeting vacation ved tara sense connection vow...</td>\n",
       "      <td>6.720</td>\n",
       "      <td>141.0</td>\n",
       "      <td>8.770</td>\n",
       "      <td>meeting vacation ved tara sense connection vow...</td>\n",
       "    </tr>\n",
       "    <tr>\n",
       "      <th>2</th>\n",
       "      <td>Tu Jhoothi Main Makkaar</td>\n",
       "      <td>2023</td>\n",
       "      <td>Indisch</td>\n",
       "      <td>Humor</td>\n",
       "      <td>earn extra cash mickey help couple break life ...</td>\n",
       "      <td>6.253</td>\n",
       "      <td>144.0</td>\n",
       "      <td>10.045</td>\n",
       "      <td>earn extra cash mickey help couple break life ...</td>\n",
       "    </tr>\n",
       "    <tr>\n",
       "      <th>3</th>\n",
       "      <td>Hindi Medium</td>\n",
       "      <td>2017</td>\n",
       "      <td>Indisch</td>\n",
       "      <td>Humor</td>\n",
       "      <td>mita raj batra affluent couple delhi chandni c...</td>\n",
       "      <td>7.300</td>\n",
       "      <td>166.0</td>\n",
       "      <td>7.001</td>\n",
       "      <td>mita raj batra affluent couple delhi chandni c...</td>\n",
       "    </tr>\n",
       "    <tr>\n",
       "      <th>4</th>\n",
       "      <td>Dilwale</td>\n",
       "      <td>2015</td>\n",
       "      <td>Indisch</td>\n",
       "      <td>Humor</td>\n",
       "      <td>raj mafia member one day meet girl meera chasi...</td>\n",
       "      <td>6.648</td>\n",
       "      <td>301.0</td>\n",
       "      <td>11.501</td>\n",
       "      <td>raj mafia member one day meet girl meera chasi...</td>\n",
       "    </tr>\n",
       "  </tbody>\n",
       "</table>\n",
       "</div>"
      ],
      "text/plain": [
       "                     title  release_year language  genre  \\\n",
       "0                  Pad Man          2018  Indisch  Humor   \n",
       "1                  Tamasha          2015  Indisch  Humor   \n",
       "2  Tu Jhoothi Main Makkaar          2023  Indisch  Humor   \n",
       "3             Hindi Medium          2017  Indisch  Humor   \n",
       "4                  Dilwale          2015  Indisch  Humor   \n",
       "\n",
       "                                            overview  vote_average  \\\n",
       "0  upon realizing extent woman affected menses se...         7.420   \n",
       "1  meeting vacation ved tara sense connection vow...         6.720   \n",
       "2  earn extra cash mickey help couple break life ...         6.253   \n",
       "3  mita raj batra affluent couple delhi chandni c...         7.300   \n",
       "4  raj mafia member one day meet girl meera chasi...         6.648   \n",
       "\n",
       "   vote_count  popularity                                   cleaned_overview  \n",
       "0       200.0       7.036  upon realizing extent woman affected menses se...  \n",
       "1       141.0       8.770  meeting vacation ved tara sense connection vow...  \n",
       "2       144.0      10.045  earn extra cash mickey help couple break life ...  \n",
       "3       166.0       7.001  mita raj batra affluent couple delhi chandni c...  \n",
       "4       301.0      11.501  raj mafia member one day meet girl meera chasi...  "
      ]
     },
     "execution_count": 4,
     "metadata": {},
     "output_type": "execute_result"
    }
   ],
   "source": [
    "# Check for missing values and remove them\n",
    "df_cleaned = df.dropna(subset=['cleaned_overview', 'language', 'genre'])\n",
    "df_cleaned.head()"
   ]
  },
  {
   "cell_type": "code",
   "execution_count": 5,
   "metadata": {},
   "outputs": [],
   "source": [
    "# Combine the 'cleaned_overview' and 'genre' columns properly to avoid the warning\n",
    "df_cleaned = df_cleaned.copy()\n",
    "df_cleaned.loc[:, 'combined_text'] = df_cleaned['cleaned_overview'].fillna('') + ' ' + df_cleaned['genre'].fillna('')\n"
   ]
  },
  {
   "cell_type": "code",
   "execution_count": 6,
   "metadata": {},
   "outputs": [],
   "source": [
    "df_cleaned['cleaned_overview'] = df_cleaned['cleaned_overview'].fillna('')"
   ]
  },
  {
   "cell_type": "code",
   "execution_count": 7,
   "metadata": {},
   "outputs": [],
   "source": [
    "# Define features (X) and target (y)\n",
    "X = df_cleaned['combined_text']\n",
    "y = df_cleaned['language']"
   ]
  },
  {
   "cell_type": "code",
   "execution_count": 8,
   "metadata": {},
   "outputs": [],
   "source": [
    "from sklearn.preprocessing import LabelEncoder\n",
    "# Convert the 'language' column to numeric labels using LabelEncoder\n",
    "label_encoder = LabelEncoder()\n",
    "df['label'] = label_encoder.fit_transform(df['language'])"
   ]
  },
  {
   "cell_type": "code",
   "execution_count": 9,
   "metadata": {},
   "outputs": [],
   "source": [
    "# Create a new column 'label' to store the encoded language labels\n",
    "df_cleaned['label'] = label_encoder.fit_transform(df_cleaned['language'])"
   ]
  },
  {
   "cell_type": "code",
   "execution_count": 10,
   "metadata": {},
   "outputs": [
    {
     "name": "stdout",
     "output_type": "stream",
     "text": [
      "Total number of value tuples: 15499\n",
      "First tuple: (3, 'upon realizing extent woman affected menses set create sanitary pad machine provide inexpensive sanitary pad woman rural india')\n",
      "Last tuple: (4, 'several european underground director turn ancient rule mankind inside shocking goresoaked interpretation god law bible world ending commandment dying')\n"
     ]
    }
   ],
   "source": [
    "# Create value tuples (label, cleaned_overview)\n",
    "value_tuples = []\n",
    "for _, row in df_cleaned.iterrows():\n",
    "    value_tuples.append((row['label'], row['cleaned_overview']))\n",
    "\n",
    "# Print the length and a few examples\n",
    "print(f\"Total number of value tuples: {len(value_tuples)}\")\n",
    "print(\"First tuple:\", value_tuples[0])\n",
    "print(\"Last tuple:\", value_tuples[-1])"
   ]
  },
  {
   "cell_type": "markdown",
   "metadata": {},
   "source": [
    "##### using a scikit-learn-based model"
   ]
  },
  {
   "cell_type": "code",
   "execution_count": 11,
   "metadata": {},
   "outputs": [],
   "source": [
    "from sklearn.model_selection import train_test_split\n",
    "# Split the data into training and test sets (80% train, 20% test)\n",
    "X_train, X_test, y_train, y_test = train_test_split(X, y, test_size=0.2, random_state=42)"
   ]
  },
  {
   "cell_type": "markdown",
   "metadata": {},
   "source": [
    "##### building a custom PyTorch classifier"
   ]
  },
  {
   "cell_type": "code",
   "execution_count": 12,
   "metadata": {},
   "outputs": [],
   "source": [
    "from sklearn.model_selection import train_test_split\n",
    "\n",
    "# Split the data into 80% training and 20% testing\n",
    "#train_value_tuples, test_value_tuples = train_test_split(value_tuples, test_size=0.2, random_state=42)\n",
    "\n",
    "# Print the size of the training and testing sets\n",
    "#print(f\"Training set size: {len(train_value_tuples)}\")\n",
    "#print(f\"Testing set size: {len(test_value_tuples)}\")\n"
   ]
  },
  {
   "cell_type": "markdown",
   "metadata": {},
   "source": [
    "## Preparing data processing pipelines"
   ]
  },
  {
   "cell_type": "code",
   "execution_count": 13,
   "metadata": {},
   "outputs": [],
   "source": [
    "from sklearn.feature_extraction.text import TfidfVectorizer\n",
    "\n",
    "#Vectorization using TF-IDF\n",
    "vectorizer = TfidfVectorizer(max_features=30000)  # Limiting to top 5000 features we can use 30000 like knn to see the difference\n",
    "\n",
    "#custom PyTorch\n",
    "\n",
    "#X_train_tfidf = vectorizer.fit_transform([text for label, text in train_value_tuples])\n",
    "#X_test_tfidf = vectorizer.transform([text for label, text in test_value_tuples])\n",
    "\n",
    "# using a scikit-learn-based model\n",
    "\n",
    "# Fit the vectorizer on the training data and transform it\n",
    "X_train_tfidf = vectorizer.fit_transform(X_train)\n",
    "\n",
    "# Transform the test data using the fitted vectorizer\n",
    "X_test_tfidf = vectorizer.transform(X_test)"
   ]
  },
  {
   "cell_type": "code",
   "execution_count": 14,
   "metadata": {},
   "outputs": [],
   "source": [
    "import torch\n",
    "# Converting TF-IDF matrices to dense tensors\n",
    "X_train_tensor = torch.tensor(X_train_tfidf.toarray(), dtype=torch.float32)\n",
    "X_test_tensor = torch.tensor(X_test_tfidf.toarray(), dtype=torch.float32)"
   ]
  },
  {
   "cell_type": "markdown",
   "metadata": {},
   "source": [
    "### Create a Custom Dataset Class"
   ]
  },
  {
   "cell_type": "code",
   "execution_count": 15,
   "metadata": {},
   "outputs": [],
   "source": [
    "from torch.utils.data import Dataset, DataLoader\n",
    "\n",
    "class MovieDataset(Dataset):\n",
    "    def __init__(self, X_data, y_data):\n",
    "        self.X_data = X_data\n",
    "        self.y_data = y_data\n",
    "\n",
    "    def __len__(self):\n",
    "        return len(self.X_data)\n",
    "\n",
    "    def __getitem__(self, index):\n",
    "        return self.X_data[index], self.y_data[index]\n",
    "\n",
    "# Convert y_train and y_test to tensors\n",
    "y_train_tensor = torch.tensor(label_encoder.transform(y_train.values), dtype=torch.long)\n",
    "y_test_tensor = torch.tensor(label_encoder.transform(y_test.values), dtype=torch.long)\n",
    "\n",
    "# Create Dataset objects\n",
    "train_dataset = MovieDataset(X_train_tensor, y_train_tensor)\n",
    "test_dataset = MovieDataset(X_test_tensor, y_test_tensor)\n",
    "\n",
    "# Create DataLoader objects\n",
    "BATCH_SIZE = 64\n",
    "train_loader = DataLoader(dataset=train_dataset, batch_size=BATCH_SIZE, shuffle=True)\n",
    "test_loader = DataLoader(dataset=test_dataset, batch_size=BATCH_SIZE, shuffle=False)"
   ]
  },
  {
   "cell_type": "markdown",
   "metadata": {},
   "source": [
    "## Define the PyTorch Model\n",
    "define a simple feed-forward neural network model"
   ]
  },
  {
   "cell_type": "code",
   "execution_count": 16,
   "metadata": {},
   "outputs": [],
   "source": [
    "#import torch.nn as nn\n",
    "#import torch.nn.functional as F\n",
    "\n",
    "#class TextClassificationModel(nn.Module):\n",
    "#    def __init__(self, input_size, num_classes):\n",
    "#        super(TextClassificationModel, self).__init__()\n",
    "#        self.fc1 = nn.Linear(input_size, 128)\n",
    "#        self.fc2 = nn.Linear(128, 64)\n",
    "#        self.fc3 = nn.Linear(64, num_classes)\n",
    "#\n",
    "#    def forward(self, x):\n",
    "#        x = F.relu(self.fc1(x))\n",
    "#        x = F.relu(self.fc2(x))\n",
    "#        x = self.fc3(x)\n",
    "#        return x"
   ]
  },
  {
   "cell_type": "markdown",
   "metadata": {},
   "source": [
    "#### Reduce Model Complexity\n",
    "We will start by simplifying the model. A smaller network reduces the risk of overfitting, particularly when the dataset size is relatively small for a complex model"
   ]
  },
  {
   "cell_type": "code",
   "execution_count": 17,
   "metadata": {},
   "outputs": [],
   "source": [
    "import torch.nn as nn\n",
    "import torch.nn.functional as F\n",
    "\n",
    "class TextClassificationModel(nn.Module):\n",
    "    def __init__(self, input_size, num_classes):\n",
    "        super(TextClassificationModel, self).__init__()\n",
    "        self.fc1 = nn.Linear(input_size, 64)  # Reduced the number of neurons\n",
    "        self.fc2 = nn.Linear(64, 32)\n",
    "        self.fc3 = nn.Linear(32, num_classes)\n",
    "\n",
    "    def forward(self, x):\n",
    "        x = F.relu(self.fc1(x))\n",
    "        x = F.relu(self.fc2(x))\n",
    "        x = self.fc3(x)\n",
    "        return x"
   ]
  },
  {
   "cell_type": "code",
   "execution_count": 18,
   "metadata": {},
   "outputs": [
    {
     "data": {
      "text/plain": [
       "TextClassificationModel(\n",
       "  (fc1): Linear(in_features=28191, out_features=64, bias=True)\n",
       "  (fc2): Linear(in_features=64, out_features=32, bias=True)\n",
       "  (fc3): Linear(in_features=32, out_features=6, bias=True)\n",
       ")"
      ]
     },
     "execution_count": 18,
     "metadata": {},
     "output_type": "execute_result"
    }
   ],
   "source": [
    "# Instantiate the model\n",
    "input_size = X_train_tfidf.shape[1]\n",
    "num_classes = len(label_encoder.classes_)\n",
    "model = TextClassificationModel(input_size, num_classes)\n",
    "model.to(torch.device(\"cuda\" if torch.cuda.is_available() else \"cpu\"))\n"
   ]
  },
  {
   "cell_type": "markdown",
   "metadata": {},
   "source": [
    "## Define the Loss Function and Optimizer\n",
    "We’ll use cross-entropy loss for this multi-class classification problem and an optimizer like Adam for optimization."
   ]
  },
  {
   "cell_type": "code",
   "execution_count": 19,
   "metadata": {},
   "outputs": [],
   "source": [
    "import torch.optim as optim\n",
    "\n",
    "# Loss function\n",
    "criterion = nn.CrossEntropyLoss()\n",
    "\n",
    "# Optimizer\n",
    "optimizer = optim.Adam(model.parameters(), lr=0.001)\n",
    "#optimizer = optim.Adam(model.parameters(), lr=0.001, weight_decay=1e-4)  # Adding weight decay\n",
    "\n"
   ]
  },
  {
   "cell_type": "markdown",
   "metadata": {},
   "source": [
    "## Training the Model\n",
    "we feed batches of data to the model and optimize it using backpropagation"
   ]
  },
  {
   "cell_type": "code",
   "execution_count": 20,
   "metadata": {},
   "outputs": [
    {
     "name": "stdout",
     "output_type": "stream",
     "text": [
      "Epoch [1/10], Loss: 1.6232, Accuracy: 0.3138\n",
      "Epoch [2/10], Loss: 1.0036, Accuracy: 0.6698\n",
      "Epoch [3/10], Loss: 0.4040, Accuracy: 0.8889\n",
      "Epoch [4/10], Loss: 0.1522, Accuracy: 0.9735\n",
      "Epoch [5/10], Loss: 0.0588, Accuracy: 0.9930\n",
      "Epoch [6/10], Loss: 0.0257, Accuracy: 0.9986\n",
      "Epoch [7/10], Loss: 0.0134, Accuracy: 0.9994\n",
      "Epoch [8/10], Loss: 0.0078, Accuracy: 0.9997\n",
      "Epoch [9/10], Loss: 0.0049, Accuracy: 0.9998\n",
      "Epoch [10/10], Loss: 0.0036, Accuracy: 0.9998\n"
     ]
    }
   ],
   "source": [
    "device = torch.device(\"cuda\" if torch.cuda.is_available() else \"cpu\")\n",
    "\n",
    "def train_model(model, train_loader, criterion, optimizer, num_epochs):\n",
    "    model.train()\n",
    "    for epoch in range(num_epochs):\n",
    "        total_loss = 0\n",
    "        correct = 0\n",
    "        total = 0\n",
    "        for X_batch, y_batch in train_loader:\n",
    "            X_batch, y_batch = X_batch.to(device), y_batch.to(device)\n",
    "\n",
    "            # Forward pass\n",
    "            outputs = model(X_batch)\n",
    "            loss = criterion(outputs, y_batch)\n",
    "\n",
    "            # Backward pass and optimization\n",
    "            optimizer.zero_grad()\n",
    "            loss.backward()\n",
    "            optimizer.step()\n",
    "\n",
    "            total_loss += loss.item()\n",
    "            _, predicted = torch.max(outputs, 1)\n",
    "            total += y_batch.size(0)\n",
    "            correct += (predicted == y_batch).sum().item()\n",
    "\n",
    "        epoch_loss = total_loss / len(train_loader)\n",
    "        epoch_acc = correct / total\n",
    "        print(f'Epoch [{epoch+1}/{num_epochs}], Loss: {epoch_loss:.4f}, Accuracy: {epoch_acc:.4f}')\n",
    "\n",
    "# Train the model for 10 epochs\n",
    "train_model(model, train_loader, criterion, optimizer, num_epochs=10)\n"
   ]
  },
  {
   "cell_type": "markdown",
   "metadata": {},
   "source": [
    "### Evaluate the Model\n",
    "After training, we can evaluate our model’s performance on the test set."
   ]
  },
  {
   "cell_type": "code",
   "execution_count": 21,
   "metadata": {},
   "outputs": [
    {
     "name": "stdout",
     "output_type": "stream",
     "text": [
      "Test Accuracy: 0.7116\n"
     ]
    }
   ],
   "source": [
    "def evaluate_model(model, test_loader):\n",
    "    model.eval()\n",
    "    correct = 0\n",
    "    total = 0\n",
    "    with torch.no_grad():\n",
    "        for X_batch, y_batch in test_loader:\n",
    "            X_batch, y_batch = X_batch.to(device), y_batch.to(device)\n",
    "            outputs = model(X_batch)\n",
    "            _, predicted = torch.max(outputs, 1)\n",
    "            total += y_batch.size(0)\n",
    "            correct += (predicted == y_batch).sum().item()\n",
    "\n",
    "    accuracy = correct / total\n",
    "    print(f'Test Accuracy: {accuracy:.4f}')\n",
    "\n",
    "# Evaluate the model\n",
    "evaluate_model(model, test_loader)\n"
   ]
  },
  {
   "cell_type": "code",
   "execution_count": 22,
   "metadata": {},
   "outputs": [],
   "source": [
    "## without Reduce Model Complexity Test Accuracy: 0.7232\n",
    "## with Reduce Model Complexity and L2 Regularization (Weight Decay) Test Accuracy: 0.6900\n",
    "## with  Reduce Model Complexity Test Accuracy: 0.7300"
   ]
  },
  {
   "cell_type": "code",
   "execution_count": 23,
   "metadata": {},
   "outputs": [
    {
     "name": "stdout",
     "output_type": "stream",
     "text": [
      "Training with batch size: 32\n",
      "Epoch [1/10], Loss: 1.5456, Accuracy: 0.3608\n",
      "Epoch [2/10], Loss: 0.8460, Accuracy: 0.7174\n",
      "Epoch [3/10], Loss: 0.3177, Accuracy: 0.9114\n",
      "Epoch [4/10], Loss: 0.1028, Accuracy: 0.9777\n",
      "Epoch [5/10], Loss: 0.0320, Accuracy: 0.9956\n",
      "Epoch [6/10], Loss: 0.0114, Accuracy: 0.9992\n",
      "Epoch [7/10], Loss: 0.0055, Accuracy: 0.9996\n",
      "Epoch [8/10], Loss: 0.0033, Accuracy: 0.9998\n",
      "Epoch [9/10], Loss: 0.0023, Accuracy: 0.9998\n",
      "Epoch [10/10], Loss: 0.0019, Accuracy: 0.9998\n",
      "Test Accuracy: 0.6874\n",
      "Training with batch size: 64\n",
      "Epoch [1/10], Loss: 1.6247, Accuracy: 0.3007\n",
      "Epoch [2/10], Loss: 0.9652, Accuracy: 0.6676\n",
      "Epoch [3/10], Loss: 0.4300, Accuracy: 0.8918\n",
      "Epoch [4/10], Loss: 0.1741, Accuracy: 0.9664\n",
      "Epoch [5/10], Loss: 0.0707, Accuracy: 0.9905\n",
      "Epoch [6/10], Loss: 0.0313, Accuracy: 0.9977\n",
      "Epoch [7/10], Loss: 0.0159, Accuracy: 0.9997\n",
      "Epoch [8/10], Loss: 0.0094, Accuracy: 0.9998\n",
      "Epoch [9/10], Loss: 0.0061, Accuracy: 0.9998\n",
      "Epoch [10/10], Loss: 0.0043, Accuracy: 0.9998\n",
      "Test Accuracy: 0.7019\n",
      "Training with batch size: 128\n",
      "Epoch [1/10], Loss: 1.7273, Accuracy: 0.2356\n",
      "Epoch [2/10], Loss: 1.3261, Accuracy: 0.5202\n",
      "Epoch [3/10], Loss: 0.7026, Accuracy: 0.8180\n",
      "Epoch [4/10], Loss: 0.2894, Accuracy: 0.9409\n",
      "Epoch [5/10], Loss: 0.1238, Accuracy: 0.9807\n",
      "Epoch [6/10], Loss: 0.0585, Accuracy: 0.9949\n",
      "Epoch [7/10], Loss: 0.0310, Accuracy: 0.9988\n",
      "Epoch [8/10], Loss: 0.0186, Accuracy: 0.9995\n",
      "Epoch [9/10], Loss: 0.0124, Accuracy: 0.9997\n",
      "Epoch [10/10], Loss: 0.0090, Accuracy: 0.9998\n",
      "Test Accuracy: 0.7065\n",
      "Training with batch size: 256\n",
      "Epoch [1/10], Loss: 1.7440, Accuracy: 0.2883\n",
      "Epoch [2/10], Loss: 1.5908, Accuracy: 0.3282\n",
      "Epoch [3/10], Loss: 1.2398, Accuracy: 0.5389\n",
      "Epoch [4/10], Loss: 0.7897, Accuracy: 0.7890\n",
      "Epoch [5/10], Loss: 0.4030, Accuracy: 0.9343\n",
      "Epoch [6/10], Loss: 0.1983, Accuracy: 0.9721\n",
      "Epoch [7/10], Loss: 0.1073, Accuracy: 0.9874\n",
      "Epoch [8/10], Loss: 0.0630, Accuracy: 0.9951\n",
      "Epoch [9/10], Loss: 0.0394, Accuracy: 0.9979\n",
      "Epoch [10/10], Loss: 0.0264, Accuracy: 0.9993\n",
      "Test Accuracy: 0.7265\n"
     ]
    }
   ],
   "source": [
    "import torch.optim as optim\n",
    "\n",
    "# List of batch sizes to try\n",
    "batch_sizes = [32, 64, 128, 256]\n",
    "\n",
    "# Loop over each batch size\n",
    "for batch_size in batch_sizes:\n",
    "    print(f\"Training with batch size: {batch_size}\")\n",
    "    \n",
    "    # Create new DataLoader with the current batch size\n",
    "    train_loader = DataLoader(dataset=train_dataset, batch_size=batch_size, shuffle=True)\n",
    "    test_loader = DataLoader(dataset=test_dataset, batch_size=batch_size, shuffle=False)\n",
    "\n",
    "    # Reinitialize the model\n",
    "    model = TextClassificationModel(input_size, num_classes)\n",
    "    model.to(device)\n",
    "\n",
    "    # Reinitialize the optimizer\n",
    "    optimizer = optim.Adam(model.parameters(), lr=0.001)\n",
    "\n",
    "    # Train the model for 10 epochs with the current batch size\n",
    "    train_model(model, train_loader, criterion, optimizer, num_epochs=10)\n",
    "\n",
    "    # Evaluate the model on the test set\n",
    "    evaluate_model(model, test_loader)\n"
   ]
  },
  {
   "cell_type": "code",
   "execution_count": 24,
   "metadata": {},
   "outputs": [
    {
     "name": "stdout",
     "output_type": "stream",
     "text": [
      "Training with weight decay: 0\n"
     ]
    },
    {
     "name": "stdout",
     "output_type": "stream",
     "text": [
      "Epoch [1/10], Loss: 1.7686, Accuracy: 0.2709\n",
      "Epoch [2/10], Loss: 1.6026, Accuracy: 0.3297\n",
      "Epoch [3/10], Loss: 1.2047, Accuracy: 0.6133\n",
      "Epoch [4/10], Loss: 0.7728, Accuracy: 0.7882\n",
      "Epoch [5/10], Loss: 0.4747, Accuracy: 0.8712\n",
      "Epoch [6/10], Loss: 0.2890, Accuracy: 0.9389\n",
      "Epoch [7/10], Loss: 0.1760, Accuracy: 0.9701\n",
      "Epoch [8/10], Loss: 0.1102, Accuracy: 0.9869\n",
      "Epoch [9/10], Loss: 0.0711, Accuracy: 0.9939\n",
      "Epoch [10/10], Loss: 0.0475, Accuracy: 0.9968\n",
      "Test Accuracy: 0.7032\n",
      "Training with weight decay: 0.0001\n",
      "Epoch [1/10], Loss: 1.7653, Accuracy: 0.2664\n",
      "Epoch [2/10], Loss: 1.6113, Accuracy: 0.2947\n",
      "Epoch [3/10], Loss: 1.3043, Accuracy: 0.5116\n",
      "Epoch [4/10], Loss: 0.8724, Accuracy: 0.7830\n",
      "Epoch [5/10], Loss: 0.5078, Accuracy: 0.9016\n",
      "Epoch [6/10], Loss: 0.2939, Accuracy: 0.9512\n",
      "Epoch [7/10], Loss: 0.1787, Accuracy: 0.9764\n",
      "Epoch [8/10], Loss: 0.1143, Accuracy: 0.9889\n",
      "Epoch [9/10], Loss: 0.0789, Accuracy: 0.9949\n",
      "Epoch [10/10], Loss: 0.0580, Accuracy: 0.9982\n",
      "Test Accuracy: 0.7126\n",
      "Training with weight decay: 0.001\n",
      "Epoch [1/10], Loss: 1.7537, Accuracy: 0.2780\n",
      "Epoch [2/10], Loss: 1.6607, Accuracy: 0.3031\n",
      "Epoch [3/10], Loss: 1.4830, Accuracy: 0.4125\n",
      "Epoch [4/10], Loss: 1.2761, Accuracy: 0.4935\n",
      "Epoch [5/10], Loss: 1.0849, Accuracy: 0.5980\n",
      "Epoch [6/10], Loss: 0.9148, Accuracy: 0.6743\n",
      "Epoch [7/10], Loss: 0.7707, Accuracy: 0.7526\n",
      "Epoch [8/10], Loss: 0.6415, Accuracy: 0.8212\n",
      "Epoch [9/10], Loss: 0.5287, Accuracy: 0.8693\n",
      "Epoch [10/10], Loss: 0.4319, Accuracy: 0.9078\n",
      "Test Accuracy: 0.6735\n",
      "Training with weight decay: 0.01\n",
      "Epoch [1/10], Loss: 1.7643, Accuracy: 0.2457\n",
      "Epoch [2/10], Loss: 1.7300, Accuracy: 0.2883\n",
      "Epoch [3/10], Loss: 1.7194, Accuracy: 0.2883\n",
      "Epoch [4/10], Loss: 1.7189, Accuracy: 0.2883\n",
      "Epoch [5/10], Loss: 1.7192, Accuracy: 0.2883\n",
      "Epoch [6/10], Loss: 1.7193, Accuracy: 0.2883\n",
      "Epoch [7/10], Loss: 1.7201, Accuracy: 0.2883\n",
      "Epoch [8/10], Loss: 1.7197, Accuracy: 0.2883\n",
      "Epoch [9/10], Loss: 1.7199, Accuracy: 0.2883\n",
      "Epoch [10/10], Loss: 1.7201, Accuracy: 0.2883\n",
      "Test Accuracy: 0.2919\n"
     ]
    }
   ],
   "source": [
    "import torch.optim as optim\n",
    "\n",
    "# Define different weight decay values to experiment with\n",
    "weight_decay_values = [0, 1e-4, 1e-3, 1e-2]\n",
    "\n",
    "# Loop over the different weight decay values\n",
    "for weight_decay in weight_decay_values:\n",
    "    print(f\"Training with weight decay: {weight_decay}\")\n",
    "    \n",
    "    # Reinitialize the model\n",
    "    model = TextClassificationModel(input_size, num_classes)\n",
    "    model.to(device)\n",
    "\n",
    "    # Reinitialize the optimizer with the current weight decay\n",
    "    optimizer = optim.Adam(model.parameters(), lr=0.001, weight_decay=weight_decay)\n",
    "\n",
    "    # Train the model for 10 epochs with the current weight decay\n",
    "    train_model(model, train_loader, criterion, optimizer, num_epochs=10)\n",
    "\n",
    "    # Evaluate the model on the test set\n",
    "    evaluate_model(model, test_loader)\n"
   ]
  },
  {
   "cell_type": "code",
   "execution_count": 25,
   "metadata": {},
   "outputs": [
    {
     "name": "stdout",
     "output_type": "stream",
     "text": [
      "Training with learning rate: 0.0001\n"
     ]
    },
    {
     "name": "stdout",
     "output_type": "stream",
     "text": [
      "Epoch [1/10], Loss: 1.7930, Accuracy: 0.0974\n",
      "Epoch [2/10], Loss: 1.7851, Accuracy: 0.0974\n",
      "Epoch [3/10], Loss: 1.7740, Accuracy: 0.2045\n",
      "Epoch [4/10], Loss: 1.7593, Accuracy: 0.3839\n",
      "Epoch [5/10], Loss: 1.7412, Accuracy: 0.4589\n",
      "Epoch [6/10], Loss: 1.7188, Accuracy: 0.4187\n",
      "Epoch [7/10], Loss: 1.6909, Accuracy: 0.3507\n",
      "Epoch [8/10], Loss: 1.6612, Accuracy: 0.3057\n",
      "Epoch [9/10], Loss: 1.6297, Accuracy: 0.2988\n",
      "Epoch [10/10], Loss: 1.5954, Accuracy: 0.3058\n",
      "Test Accuracy: 0.3039\n",
      "Training with learning rate: 0.001\n",
      "Epoch [1/10], Loss: 1.7511, Accuracy: 0.2274\n",
      "Epoch [2/10], Loss: 1.5941, Accuracy: 0.3021\n",
      "Epoch [3/10], Loss: 1.2156, Accuracy: 0.6271\n",
      "Epoch [4/10], Loss: 0.7059, Accuracy: 0.8623\n",
      "Epoch [5/10], Loss: 0.3587, Accuracy: 0.9375\n",
      "Epoch [6/10], Loss: 0.1907, Accuracy: 0.9723\n",
      "Epoch [7/10], Loss: 0.1084, Accuracy: 0.9892\n",
      "Epoch [8/10], Loss: 0.0657, Accuracy: 0.9958\n",
      "Epoch [9/10], Loss: 0.0425, Accuracy: 0.9985\n",
      "Epoch [10/10], Loss: 0.0288, Accuracy: 0.9993\n",
      "Test Accuracy: 0.7119\n",
      "Training with learning rate: 0.01\n",
      "Epoch [1/10], Loss: 1.4095, Accuracy: 0.4481\n",
      "Epoch [2/10], Loss: 0.3486, Accuracy: 0.8916\n",
      "Epoch [3/10], Loss: 0.0478, Accuracy: 0.9885\n",
      "Epoch [4/10], Loss: 0.0060, Accuracy: 0.9991\n",
      "Epoch [5/10], Loss: 0.0019, Accuracy: 0.9998\n",
      "Epoch [6/10], Loss: 0.0016, Accuracy: 0.9998\n",
      "Epoch [7/10], Loss: 0.0012, Accuracy: 0.9998\n",
      "Epoch [8/10], Loss: 0.0011, Accuracy: 0.9998\n",
      "Epoch [9/10], Loss: 0.0007, Accuracy: 0.9998\n",
      "Epoch [10/10], Loss: 0.0007, Accuracy: 0.9998\n",
      "Test Accuracy: 0.7197\n"
     ]
    }
   ],
   "source": [
    "learning_rates = [1e-4, 1e-3, 1e-2]\n",
    "\n",
    "for lr in learning_rates:\n",
    "    print(f\"Training with learning rate: {lr}\")\n",
    "    \n",
    "    # Reinitialize the model\n",
    "    model = TextClassificationModel(input_size, num_classes)\n",
    "    model.to(device)\n",
    "\n",
    "    # Reinitialize the optimizer with the current learning rate\n",
    "    optimizer = optim.Adam(model.parameters(), lr=lr)\n",
    "\n",
    "    # Train the model with the current learning rate\n",
    "    train_model(model, train_loader, criterion, optimizer, num_epochs=10)\n",
    "\n",
    "    # Evaluate the model on the test set\n",
    "    evaluate_model(model, test_loader)\n"
   ]
  }
 ],
 "metadata": {
  "kernelspec": {
   "display_name": "Python 3",
   "language": "python",
   "name": "python3"
  },
  "language_info": {
   "codemirror_mode": {
    "name": "ipython",
    "version": 3
   },
   "file_extension": ".py",
   "mimetype": "text/x-python",
   "name": "python",
   "nbconvert_exporter": "python",
   "pygments_lexer": "ipython3",
   "version": "3.12.1"
  }
 },
 "nbformat": 4,
 "nbformat_minor": 2
}
