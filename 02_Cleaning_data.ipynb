{
 "cells": [
  {
   "cell_type": "markdown",
   "metadata": {},
   "source": [
    "#  Data Cleaning and Preprocessing of Movie Dataset\n",
    "\n",
    "This process cleans and preprocesses a movie dataset by:\n",
    "\n",
    "* Removing duplicate rows.\n",
    "* Handling missing 'overview' values.\n",
    "* Cleaning text in the 'overview' column (removing special characters, lemmatizing, and removing stopwords).\n",
    "* Filtering out movies with unrealistic release years.\n",
    "* Ensuring proper data types for columns.\n",
    "* Checking for unusual values in the 'language' column.\n",
    "* Saving the cleaned dataset for further analysis."
   ]
  },
  {
   "cell_type": "code",
   "execution_count": 14,
   "metadata": {},
   "outputs": [],
   "source": [
    "# Import necessary libraries\n",
    "import pandas as pd\n",
    "import re\n",
    "from nltk.corpus import stopwords\n",
    "from nltk.stem import WordNetLemmatizer"
   ]
  },
  {
   "cell_type": "code",
   "execution_count": 15,
   "metadata": {},
   "outputs": [
    {
     "data": {
      "text/html": [
       "<div>\n",
       "<style scoped>\n",
       "    .dataframe tbody tr th:only-of-type {\n",
       "        vertical-align: middle;\n",
       "    }\n",
       "\n",
       "    .dataframe tbody tr th {\n",
       "        vertical-align: top;\n",
       "    }\n",
       "\n",
       "    .dataframe thead th {\n",
       "        text-align: right;\n",
       "    }\n",
       "</style>\n",
       "<table border=\"1\" class=\"dataframe\">\n",
       "  <thead>\n",
       "    <tr style=\"text-align: right;\">\n",
       "      <th></th>\n",
       "      <th>title</th>\n",
       "      <th>release_year</th>\n",
       "      <th>language</th>\n",
       "      <th>genre</th>\n",
       "      <th>overview</th>\n",
       "      <th>vote_average</th>\n",
       "      <th>vote_count</th>\n",
       "      <th>popularity</th>\n",
       "    </tr>\n",
       "  </thead>\n",
       "  <tbody>\n",
       "    <tr>\n",
       "      <th>0</th>\n",
       "      <td>Pad Man</td>\n",
       "      <td>2018.0</td>\n",
       "      <td>Indisch</td>\n",
       "      <td>Humor</td>\n",
       "      <td>Upon realizing the extent to which women are a...</td>\n",
       "      <td>7.420</td>\n",
       "      <td>200.0</td>\n",
       "      <td>7.036</td>\n",
       "    </tr>\n",
       "    <tr>\n",
       "      <th>1</th>\n",
       "      <td>Tamasha</td>\n",
       "      <td>2015.0</td>\n",
       "      <td>Indisch</td>\n",
       "      <td>Humor</td>\n",
       "      <td>Meeting while on vacation, Ved and Tara sense ...</td>\n",
       "      <td>6.720</td>\n",
       "      <td>141.0</td>\n",
       "      <td>8.770</td>\n",
       "    </tr>\n",
       "    <tr>\n",
       "      <th>2</th>\n",
       "      <td>Tu Jhoothi Main Makkaar</td>\n",
       "      <td>2023.0</td>\n",
       "      <td>Indisch</td>\n",
       "      <td>Humor</td>\n",
       "      <td>To earn extra cash, Mickey helps couples break...</td>\n",
       "      <td>6.253</td>\n",
       "      <td>144.0</td>\n",
       "      <td>10.045</td>\n",
       "    </tr>\n",
       "    <tr>\n",
       "      <th>3</th>\n",
       "      <td>Hindi Medium</td>\n",
       "      <td>2017.0</td>\n",
       "      <td>Indisch</td>\n",
       "      <td>Humor</td>\n",
       "      <td>Mita and Raj Batra, an affluent couple from De...</td>\n",
       "      <td>7.300</td>\n",
       "      <td>166.0</td>\n",
       "      <td>7.001</td>\n",
       "    </tr>\n",
       "    <tr>\n",
       "      <th>4</th>\n",
       "      <td>Dilwale</td>\n",
       "      <td>2015.0</td>\n",
       "      <td>Indisch</td>\n",
       "      <td>Humor</td>\n",
       "      <td>Raj is a Mafia member. One day he meet a girl ...</td>\n",
       "      <td>6.648</td>\n",
       "      <td>301.0</td>\n",
       "      <td>11.501</td>\n",
       "    </tr>\n",
       "  </tbody>\n",
       "</table>\n",
       "</div>"
      ],
      "text/plain": [
       "                     title  release_year language  genre  \\\n",
       "0                  Pad Man        2018.0  Indisch  Humor   \n",
       "1                  Tamasha        2015.0  Indisch  Humor   \n",
       "2  Tu Jhoothi Main Makkaar        2023.0  Indisch  Humor   \n",
       "3             Hindi Medium        2017.0  Indisch  Humor   \n",
       "4                  Dilwale        2015.0  Indisch  Humor   \n",
       "\n",
       "                                            overview  vote_average  \\\n",
       "0  Upon realizing the extent to which women are a...         7.420   \n",
       "1  Meeting while on vacation, Ved and Tara sense ...         6.720   \n",
       "2  To earn extra cash, Mickey helps couples break...         6.253   \n",
       "3  Mita and Raj Batra, an affluent couple from De...         7.300   \n",
       "4  Raj is a Mafia member. One day he meet a girl ...         6.648   \n",
       "\n",
       "   vote_count  popularity  \n",
       "0       200.0       7.036  \n",
       "1       141.0       8.770  \n",
       "2       144.0      10.045  \n",
       "3       166.0       7.001  \n",
       "4       301.0      11.501  "
      ]
     },
     "execution_count": 15,
     "metadata": {},
     "output_type": "execute_result"
    }
   ],
   "source": [
    "# Load cleaned dataset\n",
    "df_cleaned = pd.read_csv('data/movies_2015_2023_genres.csv')\n",
    "df_cleaned.head()"
   ]
  },
  {
   "cell_type": "code",
   "execution_count": 16,
   "metadata": {},
   "outputs": [
    {
     "data": {
      "text/html": [
       "<div>\n",
       "<style scoped>\n",
       "    .dataframe tbody tr th:only-of-type {\n",
       "        vertical-align: middle;\n",
       "    }\n",
       "\n",
       "    .dataframe tbody tr th {\n",
       "        vertical-align: top;\n",
       "    }\n",
       "\n",
       "    .dataframe thead th {\n",
       "        text-align: right;\n",
       "    }\n",
       "</style>\n",
       "<table border=\"1\" class=\"dataframe\">\n",
       "  <thead>\n",
       "    <tr style=\"text-align: right;\">\n",
       "      <th></th>\n",
       "      <th>title</th>\n",
       "      <th>release_year</th>\n",
       "      <th>language</th>\n",
       "      <th>genre</th>\n",
       "      <th>overview</th>\n",
       "      <th>vote_average</th>\n",
       "      <th>vote_count</th>\n",
       "      <th>popularity</th>\n",
       "    </tr>\n",
       "  </thead>\n",
       "  <tbody>\n",
       "    <tr>\n",
       "      <th>0</th>\n",
       "      <td>Pad Man</td>\n",
       "      <td>2018</td>\n",
       "      <td>Indisch</td>\n",
       "      <td>Humor</td>\n",
       "      <td>Upon realizing the extent to which women are a...</td>\n",
       "      <td>7.420</td>\n",
       "      <td>200.0</td>\n",
       "      <td>7.036</td>\n",
       "    </tr>\n",
       "    <tr>\n",
       "      <th>1</th>\n",
       "      <td>Tamasha</td>\n",
       "      <td>2015</td>\n",
       "      <td>Indisch</td>\n",
       "      <td>Humor</td>\n",
       "      <td>Meeting while on vacation, Ved and Tara sense ...</td>\n",
       "      <td>6.720</td>\n",
       "      <td>141.0</td>\n",
       "      <td>8.770</td>\n",
       "    </tr>\n",
       "    <tr>\n",
       "      <th>2</th>\n",
       "      <td>Tu Jhoothi Main Makkaar</td>\n",
       "      <td>2023</td>\n",
       "      <td>Indisch</td>\n",
       "      <td>Humor</td>\n",
       "      <td>To earn extra cash, Mickey helps couples break...</td>\n",
       "      <td>6.253</td>\n",
       "      <td>144.0</td>\n",
       "      <td>10.045</td>\n",
       "    </tr>\n",
       "    <tr>\n",
       "      <th>3</th>\n",
       "      <td>Hindi Medium</td>\n",
       "      <td>2017</td>\n",
       "      <td>Indisch</td>\n",
       "      <td>Humor</td>\n",
       "      <td>Mita and Raj Batra, an affluent couple from De...</td>\n",
       "      <td>7.300</td>\n",
       "      <td>166.0</td>\n",
       "      <td>7.001</td>\n",
       "    </tr>\n",
       "    <tr>\n",
       "      <th>4</th>\n",
       "      <td>Dilwale</td>\n",
       "      <td>2015</td>\n",
       "      <td>Indisch</td>\n",
       "      <td>Humor</td>\n",
       "      <td>Raj is a Mafia member. One day he meet a girl ...</td>\n",
       "      <td>6.648</td>\n",
       "      <td>301.0</td>\n",
       "      <td>11.501</td>\n",
       "    </tr>\n",
       "  </tbody>\n",
       "</table>\n",
       "</div>"
      ],
      "text/plain": [
       "                     title  release_year language  genre  \\\n",
       "0                  Pad Man          2018  Indisch  Humor   \n",
       "1                  Tamasha          2015  Indisch  Humor   \n",
       "2  Tu Jhoothi Main Makkaar          2023  Indisch  Humor   \n",
       "3             Hindi Medium          2017  Indisch  Humor   \n",
       "4                  Dilwale          2015  Indisch  Humor   \n",
       "\n",
       "                                            overview  vote_average  \\\n",
       "0  Upon realizing the extent to which women are a...         7.420   \n",
       "1  Meeting while on vacation, Ved and Tara sense ...         6.720   \n",
       "2  To earn extra cash, Mickey helps couples break...         6.253   \n",
       "3  Mita and Raj Batra, an affluent couple from De...         7.300   \n",
       "4  Raj is a Mafia member. One day he meet a girl ...         6.648   \n",
       "\n",
       "   vote_count  popularity  \n",
       "0       200.0       7.036  \n",
       "1       141.0       8.770  \n",
       "2       144.0      10.045  \n",
       "3       166.0       7.001  \n",
       "4       301.0      11.501  "
      ]
     },
     "execution_count": 16,
     "metadata": {},
     "output_type": "execute_result"
    }
   ],
   "source": [
    "# Remove .0 from release_year\n",
    "df_cleaned['release_year'] = df_cleaned['release_year'].astype(int)\n",
    "df_cleaned.head()"
   ]
  },
  {
   "cell_type": "code",
   "execution_count": 17,
   "metadata": {},
   "outputs": [
    {
     "name": "stdout",
     "output_type": "stream",
     "text": [
      "title           0\n",
      "release_year    0\n",
      "language        0\n",
      "genre           0\n",
      "overview        0\n",
      "vote_average    2\n",
      "vote_count      2\n",
      "popularity      2\n",
      "dtype: int64\n"
     ]
    }
   ],
   "source": [
    "# Step 1: Remove duplicate rows\n",
    "df_cleaned = df_cleaned.drop_duplicates()\n",
    "\n",
    "# Step 2: Handle missing values\n",
    "# Drop rows with missing 'overview' since it's crucial for the task\n",
    "df_cleaned = df_cleaned.dropna(subset=['overview'])\n",
    "print(df_cleaned.isna().sum())\n"
   ]
  },
  {
   "cell_type": "code",
   "execution_count": 18,
   "metadata": {},
   "outputs": [],
   "source": [
    "# Step 3: Text Cleaning - Clean 'overview' text\n",
    "stop_words = set(stopwords.words('english')).union(set(stopwords.words('german')))\n",
    "lemmatizer = WordNetLemmatizer()\n",
    "\n",
    "def clean_text(text):\n",
    "    text = re.sub(r'[^a-zA-Z0-9\\s]', '', text).lower().strip()\n",
    "    text = ' '.join(lemmatizer.lemmatize(word) for word in text.split() if word not in stop_words)\n",
    "    return text\n",
    "\n",
    "df_cleaned['overview'] = df_cleaned['overview'].apply(clean_text)"
   ]
  },
  {
   "cell_type": "code",
   "execution_count": 19,
   "metadata": {},
   "outputs": [
    {
     "name": "stdout",
     "output_type": "stream",
     "text": [
      "unusual values in 'language':\n",
      "Empty DataFrame\n",
      "Columns: [title, release_year, language, genre, overview, vote_average, vote_count, popularity]\n",
      "Index: []\n"
     ]
    }
   ],
   "source": [
    "\n",
    "# Step 4: Outlier Detection and Removal for 'release_year'\n",
    "# Remove rows with unrealistic release years (e.g., below 1900 or beyond 2023)\n",
    "df_cleaned = df_cleaned[(df_cleaned['release_year'] >= 1900) & (df_cleaned['release_year'] <= 2023)]\n",
    "\n",
    "# Step 5: Convert data types - Ensure 'release_year' is an integer\n",
    "df_cleaned['release_year'] = df_cleaned['release_year'].astype(int)\n",
    "\n",
    "# Step 6: Check for unusual values in 'language' column\n",
    "unusual_languages = df_cleaned[~df_cleaned['language'].isin(['Amerikanisch', 'Indisch', 'Französisch', 'Spanisch', 'Deutsch', 'Italienisch'])]\n",
    "print(f\"unusual values in 'language':\\n{unusual_languages}\")"
   ]
  },
  {
   "cell_type": "code",
   "execution_count": 20,
   "metadata": {},
   "outputs": [
    {
     "name": "stdout",
     "output_type": "stream",
     "text": [
      "Number of films per language after adjustment:\n",
      "language\n",
      "Amerikanisch    4480\n",
      "Spanisch        3197\n",
      "Französisch     2519\n",
      "Deutsch         1911\n",
      "Indisch         1873\n",
      "Italienisch     1520\n",
      "Name: count, dtype: int64\n"
     ]
    }
   ],
   "source": [
    "# Step 8: Updated frequency count\n",
    "language_counts = df_cleaned['language'].value_counts()\n",
    "print(f\"Number of films per language after adjustment:\\n{language_counts}\")"
   ]
  },
  {
   "cell_type": "code",
   "execution_count": 21,
   "metadata": {},
   "outputs": [
    {
     "name": "stdout",
     "output_type": "stream",
     "text": [
      "Total number of movies after cleaning: 15500\n"
     ]
    }
   ],
   "source": [
    "# Save cleaned data to CSV\n",
    "df_cleaned.to_csv('data/cleaned_movies_2015_2023_genres.csv', index=False)\n",
    "print(f\"Total number of movies after cleaning: {len(df_cleaned)}\")"
   ]
  }
 ],
 "metadata": {
  "kernelspec": {
   "display_name": "Python 3",
   "language": "python",
   "name": "python3"
  },
  "language_info": {
   "codemirror_mode": {
    "name": "ipython",
    "version": 3
   },
   "file_extension": ".py",
   "mimetype": "text/x-python",
   "name": "python",
   "nbconvert_exporter": "python",
   "pygments_lexer": "ipython3",
   "version": "3.12.1"
  }
 },
 "nbformat": 4,
 "nbformat_minor": 2
}
