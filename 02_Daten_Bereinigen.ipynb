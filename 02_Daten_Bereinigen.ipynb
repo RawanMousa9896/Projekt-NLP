{
 "cells": [
  {
   "cell_type": "markdown",
   "id": "74e2124a",
   "metadata": {},
   "source": [
    "### Importieren wichtiger Bibliotheken"
   ]
  },
  {
   "cell_type": "code",
   "execution_count": 1,
   "id": "82d46f2e",
   "metadata": {},
   "outputs": [],
   "source": [
    "import pandas as pd\n",
    "import matplotlib.pyplot as plt\n",
    "import seaborn as sns\n",
    "import os"
   ]
  },
  {
   "cell_type": "markdown",
   "id": "6c7b590f",
   "metadata": {},
   "source": [
    "### Die Filmdaten Zeigen"
   ]
  },
  {
   "cell_type": "code",
   "execution_count": 2,
   "id": "1079782c",
   "metadata": {},
   "outputs": [
    {
     "data": {
      "text/html": [
       "<div>\n",
       "<style scoped>\n",
       "    .dataframe tbody tr th:only-of-type {\n",
       "        vertical-align: middle;\n",
       "    }\n",
       "\n",
       "    .dataframe tbody tr th {\n",
       "        vertical-align: top;\n",
       "    }\n",
       "\n",
       "    .dataframe thead th {\n",
       "        text-align: right;\n",
       "    }\n",
       "</style>\n",
       "<table border=\"1\" class=\"dataframe\">\n",
       "  <thead>\n",
       "    <tr style=\"text-align: right;\">\n",
       "      <th></th>\n",
       "      <th>title</th>\n",
       "      <th>release_year</th>\n",
       "      <th>language</th>\n",
       "      <th>overview</th>\n",
       "      <th>vote_average</th>\n",
       "      <th>vote_count</th>\n",
       "      <th>popularity</th>\n",
       "    </tr>\n",
       "  </thead>\n",
       "  <tbody>\n",
       "    <tr>\n",
       "      <th>0</th>\n",
       "      <td>Uri: The Surgical Strike</td>\n",
       "      <td>2019</td>\n",
       "      <td>Indisch</td>\n",
       "      <td>Following the roguish terrorist attacks at Uri...</td>\n",
       "      <td>7.067</td>\n",
       "      <td>420</td>\n",
       "      <td>76.363</td>\n",
       "    </tr>\n",
       "    <tr>\n",
       "      <th>1</th>\n",
       "      <td>Attack</td>\n",
       "      <td>2022</td>\n",
       "      <td>Indisch</td>\n",
       "      <td>With the Parliament under siege, India’s first...</td>\n",
       "      <td>6.735</td>\n",
       "      <td>204</td>\n",
       "      <td>68.613</td>\n",
       "    </tr>\n",
       "    <tr>\n",
       "      <th>2</th>\n",
       "      <td>Jawan</td>\n",
       "      <td>2023</td>\n",
       "      <td>Indisch</td>\n",
       "      <td>An emotional journey of a prison warden, drive...</td>\n",
       "      <td>7.200</td>\n",
       "      <td>241</td>\n",
       "      <td>58.234</td>\n",
       "    </tr>\n",
       "    <tr>\n",
       "      <th>3</th>\n",
       "      <td>Tumbbad</td>\n",
       "      <td>2018</td>\n",
       "      <td>Indisch</td>\n",
       "      <td>India, 1918. On the outskirts of Tumbbad, a cu...</td>\n",
       "      <td>7.492</td>\n",
       "      <td>241</td>\n",
       "      <td>57.667</td>\n",
       "    </tr>\n",
       "    <tr>\n",
       "      <th>4</th>\n",
       "      <td>Animal</td>\n",
       "      <td>2023</td>\n",
       "      <td>Indisch</td>\n",
       "      <td>The hardened son of a powerful industrialist r...</td>\n",
       "      <td>6.466</td>\n",
       "      <td>104</td>\n",
       "      <td>40.951</td>\n",
       "    </tr>\n",
       "    <tr>\n",
       "      <th>...</th>\n",
       "      <td>...</td>\n",
       "      <td>...</td>\n",
       "      <td>...</td>\n",
       "      <td>...</td>\n",
       "      <td>...</td>\n",
       "      <td>...</td>\n",
       "      <td>...</td>\n",
       "    </tr>\n",
       "    <tr>\n",
       "      <th>11995</th>\n",
       "      <td>Torve Fantasie</td>\n",
       "      <td>2019</td>\n",
       "      <td>Italienisch</td>\n",
       "      <td>NaN</td>\n",
       "      <td>0.000</td>\n",
       "      <td>0</td>\n",
       "      <td>0.839</td>\n",
       "    </tr>\n",
       "    <tr>\n",
       "      <th>11996</th>\n",
       "      <td>When Nuvolari Runs: The Flying Mantuan</td>\n",
       "      <td>2018</td>\n",
       "      <td>Italienisch</td>\n",
       "      <td>Tazio Giorgio Nuvolari (16 November 1892 - 11 ...</td>\n",
       "      <td>5.667</td>\n",
       "      <td>6</td>\n",
       "      <td>0.838</td>\n",
       "    </tr>\n",
       "    <tr>\n",
       "      <th>11997</th>\n",
       "      <td>Baldus</td>\n",
       "      <td>2022</td>\n",
       "      <td>Italienisch</td>\n",
       "      <td>NaN</td>\n",
       "      <td>0.000</td>\n",
       "      <td>0</td>\n",
       "      <td>0.837</td>\n",
       "    </tr>\n",
       "    <tr>\n",
       "      <th>11998</th>\n",
       "      <td>Pastime</td>\n",
       "      <td>2019</td>\n",
       "      <td>Italienisch</td>\n",
       "      <td>A retired teacher is sitting at a table outsid...</td>\n",
       "      <td>0.000</td>\n",
       "      <td>0</td>\n",
       "      <td>0.837</td>\n",
       "    </tr>\n",
       "    <tr>\n",
       "      <th>11999</th>\n",
       "      <td>Barbieri d'Italia</td>\n",
       "      <td>2015</td>\n",
       "      <td>Italienisch</td>\n",
       "      <td>NaN</td>\n",
       "      <td>0.000</td>\n",
       "      <td>0</td>\n",
       "      <td>0.837</td>\n",
       "    </tr>\n",
       "  </tbody>\n",
       "</table>\n",
       "<p>12000 rows × 7 columns</p>\n",
       "</div>"
      ],
      "text/plain": [
       "                                        title  release_year     language  \\\n",
       "0                    Uri: The Surgical Strike          2019      Indisch   \n",
       "1                                      Attack          2022      Indisch   \n",
       "2                                       Jawan          2023      Indisch   \n",
       "3                                     Tumbbad          2018      Indisch   \n",
       "4                                      Animal          2023      Indisch   \n",
       "...                                       ...           ...          ...   \n",
       "11995                          Torve Fantasie          2019  Italienisch   \n",
       "11996  When Nuvolari Runs: The Flying Mantuan          2018  Italienisch   \n",
       "11997                                  Baldus          2022  Italienisch   \n",
       "11998                                 Pastime          2019  Italienisch   \n",
       "11999                       Barbieri d'Italia          2015  Italienisch   \n",
       "\n",
       "                                                overview  vote_average  \\\n",
       "0      Following the roguish terrorist attacks at Uri...         7.067   \n",
       "1      With the Parliament under siege, India’s first...         6.735   \n",
       "2      An emotional journey of a prison warden, drive...         7.200   \n",
       "3      India, 1918. On the outskirts of Tumbbad, a cu...         7.492   \n",
       "4      The hardened son of a powerful industrialist r...         6.466   \n",
       "...                                                  ...           ...   \n",
       "11995                                                NaN         0.000   \n",
       "11996  Tazio Giorgio Nuvolari (16 November 1892 - 11 ...         5.667   \n",
       "11997                                                NaN         0.000   \n",
       "11998  A retired teacher is sitting at a table outsid...         0.000   \n",
       "11999                                                NaN         0.000   \n",
       "\n",
       "       vote_count  popularity  \n",
       "0             420      76.363  \n",
       "1             204      68.613  \n",
       "2             241      58.234  \n",
       "3             241      57.667  \n",
       "4             104      40.951  \n",
       "...           ...         ...  \n",
       "11995           0       0.839  \n",
       "11996           6       0.838  \n",
       "11997           0       0.837  \n",
       "11998           0       0.837  \n",
       "11999           0       0.837  \n",
       "\n",
       "[12000 rows x 7 columns]"
      ]
     },
     "execution_count": 2,
     "metadata": {},
     "output_type": "execute_result"
    }
   ],
   "source": [
    "# CSV-Datei in pandas DataFrame laden\n",
    "df = pd.read_csv('data/movies_2015_2023.csv')\n",
    "df"
   ]
  },
  {
   "cell_type": "markdown",
   "id": "e39d00df",
   "metadata": {},
   "source": [
    "### Die Zeilen mit NaN-Werten in der Spalte 'overview' Entfernen"
   ]
  },
  {
   "cell_type": "code",
   "execution_count": 3,
   "id": "f92dd8b9",
   "metadata": {},
   "outputs": [
    {
     "name": "stdout",
     "output_type": "stream",
     "text": [
      "title           0\n",
      "release_year    0\n",
      "language        0\n",
      "overview        0\n",
      "vote_average    0\n",
      "vote_count      0\n",
      "popularity      0\n",
      "dtype: int64\n"
     ]
    }
   ],
   "source": [
    "df = df.dropna(subset=['overview'])\n",
    "\n",
    "# Überprüfe, ob noch NaN-Werte vorhanden sind\n",
    "print(df.isna().sum())\n"
   ]
  },
  {
   "cell_type": "code",
   "execution_count": 4,
   "id": "e22c31dc",
   "metadata": {},
   "outputs": [
    {
     "data": {
      "text/html": [
       "<div>\n",
       "<style scoped>\n",
       "    .dataframe tbody tr th:only-of-type {\n",
       "        vertical-align: middle;\n",
       "    }\n",
       "\n",
       "    .dataframe tbody tr th {\n",
       "        vertical-align: top;\n",
       "    }\n",
       "\n",
       "    .dataframe thead th {\n",
       "        text-align: right;\n",
       "    }\n",
       "</style>\n",
       "<table border=\"1\" class=\"dataframe\">\n",
       "  <thead>\n",
       "    <tr style=\"text-align: right;\">\n",
       "      <th></th>\n",
       "      <th>title</th>\n",
       "      <th>release_year</th>\n",
       "      <th>language</th>\n",
       "      <th>overview</th>\n",
       "      <th>vote_average</th>\n",
       "      <th>vote_count</th>\n",
       "      <th>popularity</th>\n",
       "    </tr>\n",
       "  </thead>\n",
       "  <tbody>\n",
       "    <tr>\n",
       "      <th>0</th>\n",
       "      <td>Uri: The Surgical Strike</td>\n",
       "      <td>2019</td>\n",
       "      <td>Indisch</td>\n",
       "      <td>Following the roguish terrorist attacks at Uri...</td>\n",
       "      <td>7.067</td>\n",
       "      <td>420</td>\n",
       "      <td>76.363</td>\n",
       "    </tr>\n",
       "    <tr>\n",
       "      <th>1</th>\n",
       "      <td>Attack</td>\n",
       "      <td>2022</td>\n",
       "      <td>Indisch</td>\n",
       "      <td>With the Parliament under siege, India’s first...</td>\n",
       "      <td>6.735</td>\n",
       "      <td>204</td>\n",
       "      <td>68.613</td>\n",
       "    </tr>\n",
       "    <tr>\n",
       "      <th>2</th>\n",
       "      <td>Jawan</td>\n",
       "      <td>2023</td>\n",
       "      <td>Indisch</td>\n",
       "      <td>An emotional journey of a prison warden, drive...</td>\n",
       "      <td>7.200</td>\n",
       "      <td>241</td>\n",
       "      <td>58.234</td>\n",
       "    </tr>\n",
       "    <tr>\n",
       "      <th>3</th>\n",
       "      <td>Tumbbad</td>\n",
       "      <td>2018</td>\n",
       "      <td>Indisch</td>\n",
       "      <td>India, 1918. On the outskirts of Tumbbad, a cu...</td>\n",
       "      <td>7.492</td>\n",
       "      <td>241</td>\n",
       "      <td>57.667</td>\n",
       "    </tr>\n",
       "    <tr>\n",
       "      <th>4</th>\n",
       "      <td>Animal</td>\n",
       "      <td>2023</td>\n",
       "      <td>Indisch</td>\n",
       "      <td>The hardened son of a powerful industrialist r...</td>\n",
       "      <td>6.466</td>\n",
       "      <td>104</td>\n",
       "      <td>40.951</td>\n",
       "    </tr>\n",
       "    <tr>\n",
       "      <th>...</th>\n",
       "      <td>...</td>\n",
       "      <td>...</td>\n",
       "      <td>...</td>\n",
       "      <td>...</td>\n",
       "      <td>...</td>\n",
       "      <td>...</td>\n",
       "      <td>...</td>\n",
       "    </tr>\n",
       "    <tr>\n",
       "      <th>11991</th>\n",
       "      <td>Odissea nell'ospizio</td>\n",
       "      <td>2019</td>\n",
       "      <td>Italienisch</td>\n",
       "      <td>Four sixty-something disgraced comedians - who...</td>\n",
       "      <td>5.500</td>\n",
       "      <td>1</td>\n",
       "      <td>0.841</td>\n",
       "    </tr>\n",
       "    <tr>\n",
       "      <th>11992</th>\n",
       "      <td>Walls</td>\n",
       "      <td>2023</td>\n",
       "      <td>Italienisch</td>\n",
       "      <td>For her debut film, model-actor turned filmmak...</td>\n",
       "      <td>6.100</td>\n",
       "      <td>4</td>\n",
       "      <td>0.840</td>\n",
       "    </tr>\n",
       "    <tr>\n",
       "      <th>11993</th>\n",
       "      <td>L'ultima bottega</td>\n",
       "      <td>2023</td>\n",
       "      <td>Italienisch</td>\n",
       "      <td>An almost eighty -year -old man works in his w...</td>\n",
       "      <td>0.000</td>\n",
       "      <td>0</td>\n",
       "      <td>0.839</td>\n",
       "    </tr>\n",
       "    <tr>\n",
       "      <th>11996</th>\n",
       "      <td>When Nuvolari Runs: The Flying Mantuan</td>\n",
       "      <td>2018</td>\n",
       "      <td>Italienisch</td>\n",
       "      <td>Tazio Giorgio Nuvolari (16 November 1892 - 11 ...</td>\n",
       "      <td>5.667</td>\n",
       "      <td>6</td>\n",
       "      <td>0.838</td>\n",
       "    </tr>\n",
       "    <tr>\n",
       "      <th>11998</th>\n",
       "      <td>Pastime</td>\n",
       "      <td>2019</td>\n",
       "      <td>Italienisch</td>\n",
       "      <td>A retired teacher is sitting at a table outsid...</td>\n",
       "      <td>0.000</td>\n",
       "      <td>0</td>\n",
       "      <td>0.837</td>\n",
       "    </tr>\n",
       "  </tbody>\n",
       "</table>\n",
       "<p>10579 rows × 7 columns</p>\n",
       "</div>"
      ],
      "text/plain": [
       "                                        title  release_year     language  \\\n",
       "0                    Uri: The Surgical Strike          2019      Indisch   \n",
       "1                                      Attack          2022      Indisch   \n",
       "2                                       Jawan          2023      Indisch   \n",
       "3                                     Tumbbad          2018      Indisch   \n",
       "4                                      Animal          2023      Indisch   \n",
       "...                                       ...           ...          ...   \n",
       "11991                    Odissea nell'ospizio          2019  Italienisch   \n",
       "11992                                   Walls          2023  Italienisch   \n",
       "11993                        L'ultima bottega          2023  Italienisch   \n",
       "11996  When Nuvolari Runs: The Flying Mantuan          2018  Italienisch   \n",
       "11998                                 Pastime          2019  Italienisch   \n",
       "\n",
       "                                                overview  vote_average  \\\n",
       "0      Following the roguish terrorist attacks at Uri...         7.067   \n",
       "1      With the Parliament under siege, India’s first...         6.735   \n",
       "2      An emotional journey of a prison warden, drive...         7.200   \n",
       "3      India, 1918. On the outskirts of Tumbbad, a cu...         7.492   \n",
       "4      The hardened son of a powerful industrialist r...         6.466   \n",
       "...                                                  ...           ...   \n",
       "11991  Four sixty-something disgraced comedians - who...         5.500   \n",
       "11992  For her debut film, model-actor turned filmmak...         6.100   \n",
       "11993  An almost eighty -year -old man works in his w...         0.000   \n",
       "11996  Tazio Giorgio Nuvolari (16 November 1892 - 11 ...         5.667   \n",
       "11998  A retired teacher is sitting at a table outsid...         0.000   \n",
       "\n",
       "       vote_count  popularity  \n",
       "0             420      76.363  \n",
       "1             204      68.613  \n",
       "2             241      58.234  \n",
       "3             241      57.667  \n",
       "4             104      40.951  \n",
       "...           ...         ...  \n",
       "11991           1       0.841  \n",
       "11992           4       0.840  \n",
       "11993           0       0.839  \n",
       "11996           6       0.838  \n",
       "11998           0       0.837  \n",
       "\n",
       "[10579 rows x 7 columns]"
      ]
     },
     "execution_count": 4,
     "metadata": {},
     "output_type": "execute_result"
    }
   ],
   "source": [
    "df"
   ]
  },
  {
   "cell_type": "markdown",
   "id": "3e8ff186",
   "metadata": {},
   "source": [
    "### Duplikate entfernen"
   ]
  },
  {
   "cell_type": "code",
   "execution_count": 5,
   "id": "85734803",
   "metadata": {},
   "outputs": [
    {
     "name": "stdout",
     "output_type": "stream",
     "text": [
      "Anzahl der Duplikate: 0\n"
     ]
    }
   ],
   "source": [
    "# Entferne doppelte Zeilen, falls vorhanden\n",
    "df = df.drop_duplicates()\n",
    "\n",
    "# Überprüfe, ob noch Duplikate vorhanden sind\n",
    "print(f\"Anzahl der Duplikate: {df.duplicated().sum()}\")\n"
   ]
  },
  {
   "cell_type": "markdown",
   "id": "de93f6ee",
   "metadata": {},
   "source": [
    "### Die gültigkeit der Werte überprüfen"
   ]
  },
  {
   "cell_type": "code",
   "execution_count": 6,
   "id": "98dee875",
   "metadata": {},
   "outputs": [
    {
     "name": "stdout",
     "output_type": "stream",
     "text": [
      "Empty DataFrame\n",
      "Columns: [title, release_year, language, overview, vote_average, vote_count, popularity]\n",
      "Index: []\n"
     ]
    }
   ],
   "source": [
    "# Überprüfe, ob es ungültige Werte außerhalb des Bereichs 0-10 gibt\n",
    "invalid_votes = df[(df['vote_average'] < 0) | (df['vote_average'] > 10)]\n",
    "\n",
    "# Zeige die ungültigen Werte an\n",
    "print(invalid_votes)\n"
   ]
  },
  {
   "cell_type": "code",
   "execution_count": 7,
   "id": "9d39b833",
   "metadata": {},
   "outputs": [
    {
     "name": "stdout",
     "output_type": "stream",
     "text": [
      "count    10579.000000\n",
      "mean        11.590713\n",
      "std         22.661944\n",
      "min          0.109000\n",
      "25%          2.195000\n",
      "50%          4.434000\n",
      "75%         11.118000\n",
      "max        449.330000\n",
      "Name: popularity, dtype: float64\n",
      "Es gibt 0 ungültige Werte in 'popularity'.\n"
     ]
    }
   ],
   "source": [
    "# Statistische Beschreibung der 'popularity'-Spalte\n",
    "print(df['popularity'].describe())\n",
    "\n",
    "# Überprüfe, ob es negative Werte oder Ausreißer gibt\n",
    "invalid_popularity = df[df['popularity'] < 0]\n",
    "print(f\"Es gibt {len(invalid_popularity)} ungültige Werte in 'popularity'.\")\n"
   ]
  },
  {
   "cell_type": "code",
   "execution_count": 8,
   "id": "31c1049b",
   "metadata": {},
   "outputs": [
    {
     "name": "stdout",
     "output_type": "stream",
     "text": [
      "Die Datei 'data/movies_2015_2023_cleaned.csv' wurde erfolgreich überschrieben und gespeichert.\n"
     ]
    }
   ],
   "source": [
    "# Pfad zur Datei\n",
    "file_path = 'data/movies_2015_2023_cleaned.csv'\n",
    "\n",
    "# Speichere die bereinigten Daten in einer neuen CSV-Datei, überschreibe wenn sie existiert\n",
    "df.to_csv(file_path, index=False)\n",
    "\n",
    "if os.path.exists(file_path):\n",
    "    print(f\"Die Datei '{file_path}' wurde erfolgreich überschrieben und gespeichert.\")\n",
    "else:\n",
    "    print(f\"Die Datei '{file_path}' wurde erfolgreich gespeichert.\")\n"
   ]
  },
  {
   "cell_type": "code",
   "execution_count": 9,
   "id": "81aa55d4",
   "metadata": {},
   "outputs": [
    {
     "data": {
      "text/html": [
       "<div>\n",
       "<style scoped>\n",
       "    .dataframe tbody tr th:only-of-type {\n",
       "        vertical-align: middle;\n",
       "    }\n",
       "\n",
       "    .dataframe tbody tr th {\n",
       "        vertical-align: top;\n",
       "    }\n",
       "\n",
       "    .dataframe thead th {\n",
       "        text-align: right;\n",
       "    }\n",
       "</style>\n",
       "<table border=\"1\" class=\"dataframe\">\n",
       "  <thead>\n",
       "    <tr style=\"text-align: right;\">\n",
       "      <th></th>\n",
       "      <th>title</th>\n",
       "      <th>release_year</th>\n",
       "      <th>language</th>\n",
       "      <th>overview</th>\n",
       "      <th>vote_average</th>\n",
       "      <th>vote_count</th>\n",
       "      <th>popularity</th>\n",
       "    </tr>\n",
       "  </thead>\n",
       "  <tbody>\n",
       "    <tr>\n",
       "      <th>0</th>\n",
       "      <td>Uri: The Surgical Strike</td>\n",
       "      <td>2019</td>\n",
       "      <td>Indisch</td>\n",
       "      <td>Following the roguish terrorist attacks at Uri...</td>\n",
       "      <td>7.067</td>\n",
       "      <td>420</td>\n",
       "      <td>76.363</td>\n",
       "    </tr>\n",
       "    <tr>\n",
       "      <th>1</th>\n",
       "      <td>Attack</td>\n",
       "      <td>2022</td>\n",
       "      <td>Indisch</td>\n",
       "      <td>With the Parliament under siege, India’s first...</td>\n",
       "      <td>6.735</td>\n",
       "      <td>204</td>\n",
       "      <td>68.613</td>\n",
       "    </tr>\n",
       "    <tr>\n",
       "      <th>2</th>\n",
       "      <td>Jawan</td>\n",
       "      <td>2023</td>\n",
       "      <td>Indisch</td>\n",
       "      <td>An emotional journey of a prison warden, drive...</td>\n",
       "      <td>7.200</td>\n",
       "      <td>241</td>\n",
       "      <td>58.234</td>\n",
       "    </tr>\n",
       "    <tr>\n",
       "      <th>3</th>\n",
       "      <td>Tumbbad</td>\n",
       "      <td>2018</td>\n",
       "      <td>Indisch</td>\n",
       "      <td>India, 1918. On the outskirts of Tumbbad, a cu...</td>\n",
       "      <td>7.492</td>\n",
       "      <td>241</td>\n",
       "      <td>57.667</td>\n",
       "    </tr>\n",
       "    <tr>\n",
       "      <th>4</th>\n",
       "      <td>Animal</td>\n",
       "      <td>2023</td>\n",
       "      <td>Indisch</td>\n",
       "      <td>The hardened son of a powerful industrialist r...</td>\n",
       "      <td>6.466</td>\n",
       "      <td>104</td>\n",
       "      <td>40.951</td>\n",
       "    </tr>\n",
       "    <tr>\n",
       "      <th>...</th>\n",
       "      <td>...</td>\n",
       "      <td>...</td>\n",
       "      <td>...</td>\n",
       "      <td>...</td>\n",
       "      <td>...</td>\n",
       "      <td>...</td>\n",
       "      <td>...</td>\n",
       "    </tr>\n",
       "    <tr>\n",
       "      <th>10574</th>\n",
       "      <td>Odissea nell'ospizio</td>\n",
       "      <td>2019</td>\n",
       "      <td>Italienisch</td>\n",
       "      <td>Four sixty-something disgraced comedians - who...</td>\n",
       "      <td>5.500</td>\n",
       "      <td>1</td>\n",
       "      <td>0.841</td>\n",
       "    </tr>\n",
       "    <tr>\n",
       "      <th>10575</th>\n",
       "      <td>Walls</td>\n",
       "      <td>2023</td>\n",
       "      <td>Italienisch</td>\n",
       "      <td>For her debut film, model-actor turned filmmak...</td>\n",
       "      <td>6.100</td>\n",
       "      <td>4</td>\n",
       "      <td>0.840</td>\n",
       "    </tr>\n",
       "    <tr>\n",
       "      <th>10576</th>\n",
       "      <td>L'ultima bottega</td>\n",
       "      <td>2023</td>\n",
       "      <td>Italienisch</td>\n",
       "      <td>An almost eighty -year -old man works in his w...</td>\n",
       "      <td>0.000</td>\n",
       "      <td>0</td>\n",
       "      <td>0.839</td>\n",
       "    </tr>\n",
       "    <tr>\n",
       "      <th>10577</th>\n",
       "      <td>When Nuvolari Runs: The Flying Mantuan</td>\n",
       "      <td>2018</td>\n",
       "      <td>Italienisch</td>\n",
       "      <td>Tazio Giorgio Nuvolari (16 November 1892 - 11 ...</td>\n",
       "      <td>5.667</td>\n",
       "      <td>6</td>\n",
       "      <td>0.838</td>\n",
       "    </tr>\n",
       "    <tr>\n",
       "      <th>10578</th>\n",
       "      <td>Pastime</td>\n",
       "      <td>2019</td>\n",
       "      <td>Italienisch</td>\n",
       "      <td>A retired teacher is sitting at a table outsid...</td>\n",
       "      <td>0.000</td>\n",
       "      <td>0</td>\n",
       "      <td>0.837</td>\n",
       "    </tr>\n",
       "  </tbody>\n",
       "</table>\n",
       "<p>10579 rows × 7 columns</p>\n",
       "</div>"
      ],
      "text/plain": [
       "                                        title  release_year     language  \\\n",
       "0                    Uri: The Surgical Strike          2019      Indisch   \n",
       "1                                      Attack          2022      Indisch   \n",
       "2                                       Jawan          2023      Indisch   \n",
       "3                                     Tumbbad          2018      Indisch   \n",
       "4                                      Animal          2023      Indisch   \n",
       "...                                       ...           ...          ...   \n",
       "10574                    Odissea nell'ospizio          2019  Italienisch   \n",
       "10575                                   Walls          2023  Italienisch   \n",
       "10576                        L'ultima bottega          2023  Italienisch   \n",
       "10577  When Nuvolari Runs: The Flying Mantuan          2018  Italienisch   \n",
       "10578                                 Pastime          2019  Italienisch   \n",
       "\n",
       "                                                overview  vote_average  \\\n",
       "0      Following the roguish terrorist attacks at Uri...         7.067   \n",
       "1      With the Parliament under siege, India’s first...         6.735   \n",
       "2      An emotional journey of a prison warden, drive...         7.200   \n",
       "3      India, 1918. On the outskirts of Tumbbad, a cu...         7.492   \n",
       "4      The hardened son of a powerful industrialist r...         6.466   \n",
       "...                                                  ...           ...   \n",
       "10574  Four sixty-something disgraced comedians - who...         5.500   \n",
       "10575  For her debut film, model-actor turned filmmak...         6.100   \n",
       "10576  An almost eighty -year -old man works in his w...         0.000   \n",
       "10577  Tazio Giorgio Nuvolari (16 November 1892 - 11 ...         5.667   \n",
       "10578  A retired teacher is sitting at a table outsid...         0.000   \n",
       "\n",
       "       vote_count  popularity  \n",
       "0             420      76.363  \n",
       "1             204      68.613  \n",
       "2             241      58.234  \n",
       "3             241      57.667  \n",
       "4             104      40.951  \n",
       "...           ...         ...  \n",
       "10574           1       0.841  \n",
       "10575           4       0.840  \n",
       "10576           0       0.839  \n",
       "10577           6       0.838  \n",
       "10578           0       0.837  \n",
       "\n",
       "[10579 rows x 7 columns]"
      ]
     },
     "execution_count": 9,
     "metadata": {},
     "output_type": "execute_result"
    }
   ],
   "source": [
    "# CSV-Datei in pandas DataFrame laden\n",
    "df = pd.read_csv('data/movies_2015_2023_cleaned.csv')\n",
    "df"
   ]
  },
  {
   "cell_type": "markdown",
   "id": "492f1d0a",
   "metadata": {},
   "source": [
    "### Die Anzahl der Filme pro Sprache"
   ]
  },
  {
   "cell_type": "code",
   "execution_count": 10,
   "id": "7d6bd213",
   "metadata": {},
   "outputs": [
    {
     "name": "stdout",
     "output_type": "stream",
     "text": [
      "language\n",
      "Amerikanisch    1999\n",
      "Indisch         1921\n",
      "Französisch     1811\n",
      "Spanisch        1800\n",
      "Deutsch         1583\n",
      "Italienisch     1465\n",
      "Name: count, dtype: int64\n"
     ]
    },
    {
     "data": {
      "image/png": "[encoded data removed]",
      "text/plain": [
       "<Figure size 1000x600 with 1 Axes>"
      ]
     },
     "metadata": {},
     "output_type": "display_data"
    }
   ],
   "source": [
    "language_counts = df['language'].value_counts()\n",
    "# Ausgabe der Anzahl der Filme pro Sprache\n",
    "print(language_counts)\n",
    "\n",
    "# Visualisiere die Anzahl der Filme pro Sprache als Balkendiagramm\n",
    "plt.figure(figsize=(10, 6))\n",
    "language_counts.plot(kind='bar', color='skyblue')\n",
    "plt.title('Anzahl der Filme pro Sprache')\n",
    "plt.xlabel('Sprache')\n",
    "plt.ylabel('Anzahl der Filme')\n",
    "plt.xticks(rotation=45)\n",
    "plt.show()"
   ]
  },
  {
   "cell_type": "markdown",
   "id": "9e15b3ee",
   "metadata": {},
   "source": [
    "### Downsampling der Mehrheit"
   ]
  },
  {
   "cell_type": "code",
   "execution_count": 11,
   "id": "68636c0f",
   "metadata": {},
   "outputs": [
    {
     "name": "stdout",
     "output_type": "stream",
     "text": [
      "language\n",
      "Amerikanisch    1465\n",
      "Deutsch         1465\n",
      "Französisch     1465\n",
      "Indisch         1465\n",
      "Italienisch     1465\n",
      "Spanisch        1465\n",
      "Name: count, dtype: int64\n"
     ]
    },
    {
     "name": "stderr",
     "output_type": "stream",
     "text": [
      "C:\\Users\\rawan\\AppData\\Local\\Temp\\ipykernel_12700\\3585966652.py:5: DeprecationWarning: DataFrameGroupBy.apply operated on the grouping columns. This behavior is deprecated, and in a future version of pandas the grouping columns will be excluded from the operation. Either pass `include_groups=False` to exclude the groupings or explicitly select the grouping columns after groupby to silence this warning.\n",
      "  df_balanced_down = df.groupby('language').apply(lambda x: x.sample(min_count)).reset_index(drop=True)\n"
     ]
    },
    {
     "data": {
      "image/png": "[encoded data removed]",
      "text/plain": [
       "<Figure size 1000x600 with 1 Axes>"
      ]
     },
     "metadata": {},
     "output_type": "display_data"
    }
   ],
   "source": [
    "# Finde die minimale Anzahl von Filmen pro Sprache\n",
    "min_count = df['language'].value_counts().min()\n",
    "\n",
    "# Für jede Sprache eine zufällige Auswahl an Filmen, basierend auf der minimalen Anzahl\n",
    "df_balanced_down = df.groupby('language').apply(lambda x: x.sample(min_count)).reset_index(drop=True)\n",
    "\n",
    "# Überprüfe die Anzahl der Filme pro Sprache nach dem Balancing\n",
    "print(df_balanced_down['language'].value_counts())\n",
    "\n",
    "# Visualisiere die Anzahl der Filme pro Sprache nach dem Balancing als Balkendiagramm\n",
    "plt.figure(figsize=(10, 6))\n",
    "df_balanced_down['language'].value_counts().plot(kind='bar', color='lightgreen')\n",
    "plt.title('Anzahl der Filme pro Sprache nach dem Balancing (Downsampling)')\n",
    "plt.xlabel('Sprache')\n",
    "plt.ylabel('Anzahl der Filme')\n",
    "plt.xticks(rotation=45)\n",
    "plt.tight_layout()  # sorgt für bessere Darstellung\n",
    "plt.show()\n"
   ]
  },
  {
   "cell_type": "code",
   "execution_count": 12,
   "id": "edf4fcdd",
   "metadata": {},
   "outputs": [
    {
     "name": "stdout",
     "output_type": "stream",
     "text": [
      "Die Downsampling-Daten wurden erfolgreich gespeichert.\n"
     ]
    }
   ],
   "source": [
    "# Speichere die balancierten Daten (Downsampling) in einer neuen CSV-Datei\n",
    "df_balanced_down.to_csv('data/movies_2015_2023_balanced_down.csv', index=False)\n",
    "\n",
    "print(\"Die Downsampling-Daten wurden erfolgreich gespeichert.\")"
   ]
  },
  {
   "cell_type": "markdown",
   "id": "ac6e86fb",
   "metadata": {},
   "source": [
    "### Oversampling der Minderheit"
   ]
  },
  {
   "cell_type": "code",
   "execution_count": 13,
   "id": "81d42972",
   "metadata": {},
   "outputs": [
    {
     "name": "stdout",
     "output_type": "stream",
     "text": [
      "language\n",
      "Amerikanisch    1999\n",
      "Deutsch         1999\n",
      "Französisch     1999\n",
      "Indisch         1999\n",
      "Italienisch     1999\n",
      "Spanisch        1999\n",
      "Name: count, dtype: int64\n"
     ]
    },
    {
     "name": "stderr",
     "output_type": "stream",
     "text": [
      "C:\\Users\\rawan\\AppData\\Local\\Temp\\ipykernel_12700\\3175944802.py:5: DeprecationWarning: DataFrameGroupBy.apply operated on the grouping columns. This behavior is deprecated, and in a future version of pandas the grouping columns will be excluded from the operation. Either pass `include_groups=False` to exclude the groupings or explicitly select the grouping columns after groupby to silence this warning.\n",
      "  df_balanced_over = df.groupby('language').apply(lambda x: x.sample(max_count, replace=True)).reset_index(drop=True)\n"
     ]
    },
    {
     "data": {
      "image/png": "[encoded data removed]",
      "text/plain": [
       "<Figure size 1000x600 with 1 Axes>"
      ]
     },
     "metadata": {},
     "output_type": "display_data"
    }
   ],
   "source": [
    "# Finde die maximale Anzahl von Filmen pro Sprache\n",
    "max_count = df['language'].value_counts().max()\n",
    "\n",
    "# Für jede Sprache Filme duplizieren, bis sie die maximale Anzahl erreicht\n",
    "df_balanced_over = df.groupby('language').apply(lambda x: x.sample(max_count, replace=True)).reset_index(drop=True)\n",
    "\n",
    "# Überprüfe die Anzahl der Filme pro Sprache nach dem Balancing\n",
    "print(df_balanced_over['language'].value_counts())\n",
    "\n",
    "# Visualisiere die Anzahl der Filme pro Sprache nach dem Balancing (Oversampling) als Balkendiagramm\n",
    "plt.figure(figsize=(10, 6))\n",
    "df_balanced_over['language'].value_counts().plot(kind='bar', color='lightcoral')\n",
    "plt.title('Anzahl der Filme pro Sprache nach dem Balancing (Oversampling)')\n",
    "plt.xlabel('Sprache')\n",
    "plt.ylabel('Anzahl der Filme')\n",
    "plt.xticks(rotation=45)\n",
    "plt.tight_layout()  # sorgt für bessere Darstellung des Plots\n",
    "plt.show()\n"
   ]
  },
  {
   "cell_type": "code",
   "execution_count": 14,
   "id": "184a097c",
   "metadata": {},
   "outputs": [
    {
     "name": "stdout",
     "output_type": "stream",
     "text": [
      "Die Oversampling-Daten wurden erfolgreich gespeichert.\n"
     ]
    }
   ],
   "source": [
    "# Speichere die balancierten Daten (Oversampling) in einer neuen CSV-Datei\n",
    "df_balanced_over.to_csv('data/movies_2015_2023_balanced_over.csv', index=False)\n",
    "\n",
    "print(\"Die Oversampling-Daten wurden erfolgreich gespeichert.\")\n"
   ]
  },
  {
   "cell_type": "code",
   "execution_count": null,
   "id": "5b243b2d",
   "metadata": {},
   "outputs": [],
   "source": []
  },
  {
   "cell_type": "code",
   "execution_count": null,
   "id": "9fa1fd9d",
   "metadata": {},
   "outputs": [],
   "source": []
  }
 ],
 "metadata": {
  "kernelspec": {
   "display_name": "Python 3 (ipykernel)",
   "language": "python",
   "name": "python3"
  },
  "language_info": {
   "codemirror_mode": {
    "name": "ipython",
    "version": 3
   },
   "file_extension": ".py",
   "mimetype": "text/x-python",
   "name": "python",
   "nbconvert_exporter": "python",
   "pygments_lexer": "ipython3",
   "version": "3.11.9"
  }
 },
 "nbformat": 4,
 "nbformat_minor": 5
}
