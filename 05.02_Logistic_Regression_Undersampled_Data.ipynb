{
 "cells": [
  {
   "cell_type": "markdown",
   "id": "349a73f3",
   "metadata": {},
   "source": [
    "### Import Libraries"
   ]
  },
  {
   "cell_type": "code",
   "execution_count": 1,
   "id": "bbb805f1",
   "metadata": {},
   "outputs": [],
   "source": [
    "# Import necessary libraries\n",
    "import pandas as pd\n",
    "from sklearn.model_selection import train_test_split, GridSearchCV\n",
    "from sklearn.linear_model import LogisticRegression\n",
    "from sklearn.metrics import confusion_matrix, accuracy_score, classification_report\n",
    "from sklearn.preprocessing import StandardScaler\n",
    "from imblearn.over_sampling import SMOTE\n",
    "import seaborn as sns\n",
    "import matplotlib.pyplot as plt\n",
    "import warnings\n",
    "from sklearn.feature_extraction.text import TfidfVectorizer\n",
    "from sklearn.preprocessing import StandardScaler\n",
    "import numpy as np\n",
    "# Suppress warnings\n",
    "warnings.filterwarnings('ignore')\n"
   ]
  },
  {
   "cell_type": "markdown",
   "id": "8bb43fe2",
   "metadata": {},
   "source": [
    "### Load and Prepare the Data"
   ]
  },
  {
   "cell_type": "code",
   "execution_count": 2,
   "id": "21eababc",
   "metadata": {},
   "outputs": [
    {
     "data": {
      "text/html": [
       "<div>\n",
       "<style scoped>\n",
       "    .dataframe tbody tr th:only-of-type {\n",
       "        vertical-align: middle;\n",
       "    }\n",
       "\n",
       "    .dataframe tbody tr th {\n",
       "        vertical-align: top;\n",
       "    }\n",
       "\n",
       "    .dataframe thead th {\n",
       "        text-align: right;\n",
       "    }\n",
       "</style>\n",
       "<table border=\"1\" class=\"dataframe\">\n",
       "  <thead>\n",
       "    <tr style=\"text-align: right;\">\n",
       "      <th></th>\n",
       "      <th>title</th>\n",
       "      <th>release_year</th>\n",
       "      <th>language</th>\n",
       "      <th>genre</th>\n",
       "      <th>overview</th>\n",
       "      <th>vote_average</th>\n",
       "      <th>vote_count</th>\n",
       "      <th>popularity</th>\n",
       "      <th>cleaned_overview</th>\n",
       "    </tr>\n",
       "  </thead>\n",
       "  <tbody>\n",
       "    <tr>\n",
       "      <th>0</th>\n",
       "      <td>Ava</td>\n",
       "      <td>2020</td>\n",
       "      <td>Amerikanisch</td>\n",
       "      <td>Action</td>\n",
       "      <td>black ops assassin forced fight survival job g...</td>\n",
       "      <td>5.832</td>\n",
       "      <td>2543.0</td>\n",
       "      <td>27.607</td>\n",
       "      <td>black ops assassin forced fight survival job g...</td>\n",
       "    </tr>\n",
       "    <tr>\n",
       "      <th>1</th>\n",
       "      <td>Infidel</td>\n",
       "      <td>2019</td>\n",
       "      <td>Amerikanisch</td>\n",
       "      <td>Action</td>\n",
       "      <td>american kidnapped attending conference cairo ...</td>\n",
       "      <td>5.500</td>\n",
       "      <td>74.0</td>\n",
       "      <td>7.443</td>\n",
       "      <td>american kidnapped attending conference cairo ...</td>\n",
       "    </tr>\n",
       "    <tr>\n",
       "      <th>2</th>\n",
       "      <td>Quicksand</td>\n",
       "      <td>2023</td>\n",
       "      <td>Amerikanisch</td>\n",
       "      <td>Horror</td>\n",
       "      <td>married couple brink divorce becomes trapped q...</td>\n",
       "      <td>6.589</td>\n",
       "      <td>84.0</td>\n",
       "      <td>11.736</td>\n",
       "      <td>married couple brink divorce becomes trapped q...</td>\n",
       "    </tr>\n",
       "    <tr>\n",
       "      <th>3</th>\n",
       "      <td>Earthquake Bird</td>\n",
       "      <td>2019</td>\n",
       "      <td>Amerikanisch</td>\n",
       "      <td>Drama</td>\n",
       "      <td>tokyo japan 1989 lucy fly foreigner work trans...</td>\n",
       "      <td>5.884</td>\n",
       "      <td>426.0</td>\n",
       "      <td>7.835</td>\n",
       "      <td>tokyo japan lucy fly foreigner work translator...</td>\n",
       "    </tr>\n",
       "    <tr>\n",
       "      <th>4</th>\n",
       "      <td>First Love</td>\n",
       "      <td>2022</td>\n",
       "      <td>Amerikanisch</td>\n",
       "      <td>Drama</td>\n",
       "      <td>young man difficult entry adulthood experience...</td>\n",
       "      <td>5.672</td>\n",
       "      <td>131.0</td>\n",
       "      <td>15.751</td>\n",
       "      <td>young difficult entry adulthood experience hig...</td>\n",
       "    </tr>\n",
       "  </tbody>\n",
       "</table>\n",
       "</div>"
      ],
      "text/plain": [
       "             title  release_year      language   genre  \\\n",
       "0              Ava          2020  Amerikanisch  Action   \n",
       "1          Infidel          2019  Amerikanisch  Action   \n",
       "2        Quicksand          2023  Amerikanisch  Horror   \n",
       "3  Earthquake Bird          2019  Amerikanisch   Drama   \n",
       "4       First Love          2022  Amerikanisch   Drama   \n",
       "\n",
       "                                            overview  vote_average  \\\n",
       "0  black ops assassin forced fight survival job g...         5.832   \n",
       "1  american kidnapped attending conference cairo ...         5.500   \n",
       "2  married couple brink divorce becomes trapped q...         6.589   \n",
       "3  tokyo japan 1989 lucy fly foreigner work trans...         5.884   \n",
       "4  young man difficult entry adulthood experience...         5.672   \n",
       "\n",
       "   vote_count  popularity                                   cleaned_overview  \n",
       "0      2543.0      27.607  black ops assassin forced fight survival job g...  \n",
       "1        74.0       7.443  american kidnapped attending conference cairo ...  \n",
       "2        84.0      11.736  married couple brink divorce becomes trapped q...  \n",
       "3       426.0       7.835  tokyo japan lucy fly foreigner work translator...  \n",
       "4       131.0      15.751  young difficult entry adulthood experience hig...  "
      ]
     },
     "execution_count": 2,
     "metadata": {},
     "output_type": "execute_result"
    }
   ],
   "source": [
    "# Load the dataset \n",
    "df = pd.read_csv('data/undersampled_movies_2015_2023_genres.csv')\n",
    "df.head()"
   ]
  },
  {
   "cell_type": "code",
   "execution_count": 3,
   "id": "85135662",
   "metadata": {},
   "outputs": [
    {
     "name": "stdout",
     "output_type": "stream",
     "text": [
      "title               0\n",
      "release_year        0\n",
      "language            0\n",
      "genre               0\n",
      "overview            0\n",
      "vote_average        0\n",
      "vote_count          0\n",
      "popularity          0\n",
      "cleaned_overview    0\n",
      "dtype: int64\n"
     ]
    }
   ],
   "source": [
    "# Remove lines that contain NAN-Values\n",
    "df_cleaned = df.dropna()\n",
    "\n",
    "# Check whether there are still missing values\n",
    "print(df_cleaned.isnull().sum())\n"
   ]
  },
  {
   "cell_type": "code",
   "execution_count": 4,
   "id": "6c72b36e",
   "metadata": {},
   "outputs": [],
   "source": [
    "# Define the features \n",
    "X = df_cleaned['cleaned_overview'] + ' ' + df_cleaned['genre'] + ' ' + df_cleaned['title']\n",
    "# Predict the language\n",
    "y = df_cleaned['language'] \n",
    "\n",
    "# Split the data into training and testing sets\n",
    "X_train, X_test, y_train, y_test = train_test_split(X, y, test_size=0.2, random_state=42)\n"
   ]
  },
  {
   "cell_type": "markdown",
   "id": "b454fd80",
   "metadata": {},
   "source": [
    "### Feature Engineering"
   ]
  },
  {
   "cell_type": "code",
   "execution_count": 5,
   "id": "17d4bf65",
   "metadata": {},
   "outputs": [],
   "source": [
    "# Apply TF-IDF Vectorizer to the combined text features\n",
    "tfidf_vectorizer = TfidfVectorizer(max_features=5000)\n",
    "X_train_tfidf = tfidf_vectorizer.fit_transform(X_train)\n",
    "X_test_tfidf = tfidf_vectorizer.transform(X_test)\n"
   ]
  },
  {
   "cell_type": "code",
   "execution_count": null,
   "id": "54938ce2",
   "metadata": {},
   "outputs": [
    {
     "name": "stdout",
     "output_type": "stream",
     "text": [
      "Fitting 5 folds for each of 15 candidates, totalling 75 fits\n"
     ]
    }
   ],
   "source": [
    "# Initialize Logistic Regression with class balancing and parameter tuning\n",
    "log_reg = LogisticRegression(max_iter=1000)\n",
    "\n",
    "# Define the parameter grid for Logistic Regression\n",
    "param_grid_reduced = [\n",
    "    {'penalty': ['l1', 'l2'], 'C': [1, 10, 100], 'solver': ['liblinear']},\n",
    "    {'penalty': ['elasticnet'], 'C': [1, 10, 100], 'solver': ['saga'], 'l1_ratio': [0, 0.5, 1]}\n",
    "]\n",
    "\n",
    "# Apply Grid Search with Cross-Validation to find the best parameters\n",
    "grid_search_reduced = GridSearchCV(log_reg, param_grid_reduced, cv=5, verbose=1)\n",
    "grid_search_reduced.fit(X_train_tfidf, y_train)\n"
   ]
  },
  {
   "cell_type": "code",
   "execution_count": null,
   "id": "e4e00c17",
   "metadata": {},
   "outputs": [],
   "source": [
    "# Output best parameters found\n",
    "print(\"Best parameters found: \", grid_search_reduced.best_params_)"
   ]
  },
  {
   "cell_type": "code",
   "execution_count": null,
   "id": "2476d34e",
   "metadata": {},
   "outputs": [],
   "source": [
    "# Make predictions on the test set\n",
    "y_pred = grid_search_reduced.predict(X_test_tfidf)\n",
    "\n",
    "# Evaluate the model performance\n",
    "accuracy = accuracy_score(y_test, y_pred)\n",
    "print(f'Accuracy: {accuracy}')\n"
   ]
  },
  {
   "cell_type": "code",
   "execution_count": null,
   "id": "d8a92980",
   "metadata": {},
   "outputs": [],
   "source": [
    "# Calculate confusion matrix\n",
    "conf_matrix = confusion_matrix(y_test, y_pred)\n",
    "\n",
    "# Visualize confusion matrix\n",
    "plt.figure(figsize=(8, 6))\n",
    "sns.heatmap(conf_matrix, annot=True, fmt='d', cmap='Blues', \n",
    "            xticklabels=grid_search_reduced.classes_, \n",
    "            yticklabels=grid_search_reduced.classes_)\n",
    "plt.xlabel('Predicted Label')\n",
    "plt.ylabel('True Label')\n",
    "plt.title('Confusion Matrix')\n",
    "plt.show()"
   ]
  },
  {
   "cell_type": "code",
   "execution_count": null,
   "id": "baeea57a",
   "metadata": {},
   "outputs": [],
   "source": [
    "# Generate a classification report\n",
    "classification_report_result = classification_report(y_test, y_pred)\n",
    "classification_rep = classification_report(y_test, y_pred, target_names=grid_search_reduced.classes_)\n",
    "\n",
    "print(classification_report_result)\n"
   ]
  },
  {
   "cell_type": "code",
   "execution_count": null,
   "id": "7eb0c146",
   "metadata": {},
   "outputs": [],
   "source": []
  }
 ],
 "metadata": {
  "kernelspec": {
   "display_name": "Python 3 (ipykernel)",
   "language": "python",
   "name": "python3"
  },
  "language_info": {
   "codemirror_mode": {
    "name": "ipython",
    "version": 3
   },
   "file_extension": ".py",
   "mimetype": "text/x-python",
   "name": "python",
   "nbconvert_exporter": "python",
   "pygments_lexer": "ipython3",
   "version": "3.11.9"
  }
 },
 "nbformat": 4,
 "nbformat_minor": 5
}
