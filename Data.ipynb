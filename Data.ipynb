{
 "cells": [
  {
   "cell_type": "markdown",
   "id": "af1e4f6a",
   "metadata": {},
   "source": [
    "# Filme basierend auf der Sprache des Films Klassifizieren"
   ]
  },
  {
   "cell_type": "markdown",
   "id": "433a689b",
   "metadata": {},
   "source": [
    "Importieren wichtiger Bibliotheken"
   ]
  },
  {
   "cell_type": "code",
   "execution_count": 1,
   "id": "5bd43b93",
   "metadata": {},
   "outputs": [],
   "source": [
    "import pandas as pd\n",
    "import requests\n",
    "import time\n",
    "import matplotlib.pyplot as plt\n",
    "import seaborn as sns\n",
    "import re\n",
    "import nltk\n",
    "from nltk.corpus import stopwords\n",
    "from sklearn.feature_extraction.text import TfidfVectorizer\n",
    "from nltk.stem import WordNetLemmatizer\n",
    "from sklearn.model_selection import train_test_split\n",
    "import spacy"
   ]
  },
  {
   "cell_type": "code",
   "execution_count": 2,
   "id": "92473215",
   "metadata": {},
   "outputs": [
    {
     "name": "stderr",
     "output_type": "stream",
     "text": [
      "[nltk_data] Downloading package punkt to\n",
      "[nltk_data]     C:\\Users\\rawan\\AppData\\Roaming\\nltk_data...\n",
      "[nltk_data]   Package punkt is already up-to-date!\n",
      "[nltk_data] Downloading package stopwords to\n",
      "[nltk_data]     C:\\Users\\rawan\\AppData\\Roaming\\nltk_data...\n",
      "[nltk_data]   Package stopwords is already up-to-date!\n",
      "[nltk_data] Downloading package wordnet to\n",
      "[nltk_data]     C:\\Users\\rawan\\AppData\\Roaming\\nltk_data...\n",
      "[nltk_data]   Package wordnet is already up-to-date!\n"
     ]
    }
   ],
   "source": [
    "nltk.download('punkt')\n",
    "nltk.download('stopwords')\n",
    "nltk.download('wordnet')\n",
    "# Lade das englische Sprachmodell von spaCy\n",
    "nlp = spacy.load('en_core_web_sm')\n"
   ]
  },
  {
   "cell_type": "markdown",
   "id": "9d27ea8c",
   "metadata": {},
   "source": [
    "Filmdaten abrufen und speichern"
   ]
  },
  {
   "cell_type": "code",
   "execution_count": 3,
   "id": "0c3acb18",
   "metadata": {},
   "outputs": [
    {
     "data": {
      "text/plain": [
       "'\\n# TMDb-API-Schlüssel\\napi_key = \\'8fd8f41e872ddd873838d1f0f571e31b\\'\\n\\n# Basis-URL für die API-Anfragen\\nbase_url = \\'https://api.themoviedb.org/3/discover/movie\\'\\n\\n# Parameter für die Anfrage\\nparams = {\\n    \\'api_key\\': api_key,\\n    \\'language\\': \\'en-US\\',\\n    \\'sort_by\\': \\'popularity.desc\\',\\n    \\'include_adult\\': \\'false\\',\\n    \\'include_video\\': \\'false\\',\\n    \\'page\\': 1,\\n    \\'primary_release_date.gte\\': \\'2015-01-01\\',\\n    \\'primary_release_date.lte\\': \\'2023-12-31\\',\\n    \\'with_original_language\\': None\\n}\\n\\n# Funktion, um Filme von einer bestimmten Seite abzurufen\\ndef get_movies(page):\\n    params[\\'page\\'] = page\\n    response = requests.get(base_url, params=params)\\n    if response.status_code == 200:\\n        return response.json().get(\\'results\\', [])\\n    else:\\n        print(f\"Fehler beim Abrufen der Seite {page}: {response.status_code}\")\\n        return []\\n\\n# Filmdaten speichern\\nmovies = []\\n\\n# Erhöhe die Anzahl der Seiten\\ntotal_pages = 100  # Anzahl der Seiten, die man abrufen möchte\\n\\n# Erweiterte Sprachenliste\\nlanguages = {\\n    \\'hi\\': \\'Indisch\\',\\n    \\'en\\': \\'Amerikanisch\\',\\n    \\'de\\': \\'Deutsch\\',\\n    \\'fr\\': \\'Französisch\\',\\n    \\'es\\': \\'Spanisch\\',\\n    \\'it\\': \\'Italienisch\\'\\n}\\n\\n# Filme für jede Sprache sammeln\\nfor lang_code, lang_name in languages.items():\\n    params[\\'with_original_language\\'] = lang_code\\n    for page in range(1, total_pages + 1):\\n        # print(f\"Verarbeite Seite {page} für Sprache: {lang_name}\")\\n        movies_on_page = get_movies(page)\\n        for movie in movies_on_page:\\n            movies.append({\\n                \\'title\\': movie.get(\\'title\\'),\\n                \\'release_year\\': movie.get(\\'release_date\\', \\'\\')[:4],\\n                \\'language\\': lang_name,\\n                \\'overview\\': movie.get(\\'overview\\', \\'\\'),\\n                \\'vote_average\\': movie.get(\\'vote_average\\', 0),\\n                \\'vote_count\\': movie.get(\\'vote_count\\', 0),\\n                \\'popularity\\': movie.get(\\'popularity\\', 0),\\n            })\\n        time.sleep(0.2)\\n\\n# Speichern in einer CSV-Datei\\ndf = pd.DataFrame(movies)\\ndf.to_csv(\\'movies_2015_2023.csv\\', index=False)\\n#print(f\"Gesamtanzahl der Filme: {len(df)}\")\\n'"
      ]
     },
     "execution_count": 3,
     "metadata": {},
     "output_type": "execute_result"
    }
   ],
   "source": [
    "'''\n",
    "# TMDb-API-Schlüssel\n",
    "api_key = '8fd8f41e872ddd873838d1f0f571e31b'\n",
    "\n",
    "# Basis-URL für die API-Anfragen\n",
    "base_url = 'https://api.themoviedb.org/3/discover/movie'\n",
    "\n",
    "# Parameter für die Anfrage\n",
    "params = {\n",
    "    'api_key': api_key,\n",
    "    'language': 'en-US',\n",
    "    'sort_by': 'popularity.desc',\n",
    "    'include_adult': 'false',\n",
    "    'include_video': 'false',\n",
    "    'page': 1,\n",
    "    'primary_release_date.gte': '2015-01-01',\n",
    "    'primary_release_date.lte': '2023-12-31',\n",
    "    'with_original_language': None\n",
    "}\n",
    "\n",
    "# Funktion, um Filme von einer bestimmten Seite abzurufen\n",
    "def get_movies(page):\n",
    "    params['page'] = page\n",
    "    response = requests.get(base_url, params=params)\n",
    "    if response.status_code == 200:\n",
    "        return response.json().get('results', [])\n",
    "    else:\n",
    "        print(f\"Fehler beim Abrufen der Seite {page}: {response.status_code}\")\n",
    "        return []\n",
    "\n",
    "# Filmdaten speichern\n",
    "movies = []\n",
    "\n",
    "# Erhöhe die Anzahl der Seiten\n",
    "total_pages = 100  # Anzahl der Seiten, die man abrufen möchte\n",
    "\n",
    "# Erweiterte Sprachenliste\n",
    "languages = {\n",
    "    'hi': 'Indisch',\n",
    "    'en': 'Amerikanisch',\n",
    "    'de': 'Deutsch',\n",
    "    'fr': 'Französisch',\n",
    "    'es': 'Spanisch',\n",
    "    'it': 'Italienisch'\n",
    "}\n",
    "\n",
    "# Filme für jede Sprache sammeln\n",
    "for lang_code, lang_name in languages.items():\n",
    "    params['with_original_language'] = lang_code\n",
    "    for page in range(1, total_pages + 1):\n",
    "        # print(f\"Verarbeite Seite {page} für Sprache: {lang_name}\")\n",
    "        movies_on_page = get_movies(page)\n",
    "        for movie in movies_on_page:\n",
    "            movies.append({\n",
    "                'title': movie.get('title'),\n",
    "                'release_year': movie.get('release_date', '')[:4],\n",
    "                'language': lang_name,\n",
    "                'overview': movie.get('overview', ''),\n",
    "                'vote_average': movie.get('vote_average', 0),\n",
    "                'vote_count': movie.get('vote_count', 0),\n",
    "                'popularity': movie.get('popularity', 0),\n",
    "            })\n",
    "        time.sleep(0.2)\n",
    "\n",
    "# Speichern in einer CSV-Datei\n",
    "df = pd.DataFrame(movies)\n",
    "df.to_csv('movies_2015_2023.csv', index=False)\n",
    "#print(f\"Gesamtanzahl der Filme: {len(df)}\")\n",
    "''' "
   ]
  },
  {
   "cell_type": "code",
   "execution_count": 4,
   "id": "cb4ab2f6",
   "metadata": {},
   "outputs": [
    {
     "data": {
      "text/html": [
       "<div>\n",
       "<style scoped>\n",
       "    .dataframe tbody tr th:only-of-type {\n",
       "        vertical-align: middle;\n",
       "    }\n",
       "\n",
       "    .dataframe tbody tr th {\n",
       "        vertical-align: top;\n",
       "    }\n",
       "\n",
       "    .dataframe thead th {\n",
       "        text-align: right;\n",
       "    }\n",
       "</style>\n",
       "<table border=\"1\" class=\"dataframe\">\n",
       "  <thead>\n",
       "    <tr style=\"text-align: right;\">\n",
       "      <th></th>\n",
       "      <th>title</th>\n",
       "      <th>release_year</th>\n",
       "      <th>language</th>\n",
       "      <th>overview</th>\n",
       "      <th>vote_average</th>\n",
       "      <th>vote_count</th>\n",
       "      <th>popularity</th>\n",
       "    </tr>\n",
       "  </thead>\n",
       "  <tbody>\n",
       "    <tr>\n",
       "      <th>0</th>\n",
       "      <td>Tumbbad</td>\n",
       "      <td>2018</td>\n",
       "      <td>Indisch</td>\n",
       "      <td>India, 1918. On the outskirts of Tumbbad, a cu...</td>\n",
       "      <td>7.500</td>\n",
       "      <td>240</td>\n",
       "      <td>60.379</td>\n",
       "    </tr>\n",
       "    <tr>\n",
       "      <th>1</th>\n",
       "      <td>Uri: The Surgical Strike</td>\n",
       "      <td>2019</td>\n",
       "      <td>Indisch</td>\n",
       "      <td>Following the roguish terrorist attacks at Uri...</td>\n",
       "      <td>7.067</td>\n",
       "      <td>420</td>\n",
       "      <td>53.110</td>\n",
       "    </tr>\n",
       "    <tr>\n",
       "      <th>2</th>\n",
       "      <td>Attack</td>\n",
       "      <td>2022</td>\n",
       "      <td>Indisch</td>\n",
       "      <td>With the Parliament under siege, India’s first...</td>\n",
       "      <td>6.739</td>\n",
       "      <td>203</td>\n",
       "      <td>52.842</td>\n",
       "    </tr>\n",
       "    <tr>\n",
       "      <th>3</th>\n",
       "      <td>Jawan</td>\n",
       "      <td>2023</td>\n",
       "      <td>Indisch</td>\n",
       "      <td>An emotional journey of a prison warden, drive...</td>\n",
       "      <td>7.200</td>\n",
       "      <td>241</td>\n",
       "      <td>43.381</td>\n",
       "    </tr>\n",
       "    <tr>\n",
       "      <th>4</th>\n",
       "      <td>Animal</td>\n",
       "      <td>2023</td>\n",
       "      <td>Indisch</td>\n",
       "      <td>The hardened son of a powerful industrialist r...</td>\n",
       "      <td>6.540</td>\n",
       "      <td>101</td>\n",
       "      <td>37.667</td>\n",
       "    </tr>\n",
       "    <tr>\n",
       "      <th>...</th>\n",
       "      <td>...</td>\n",
       "      <td>...</td>\n",
       "      <td>...</td>\n",
       "      <td>...</td>\n",
       "      <td>...</td>\n",
       "      <td>...</td>\n",
       "      <td>...</td>\n",
       "    </tr>\n",
       "    <tr>\n",
       "      <th>11995</th>\n",
       "      <td>The first wave - Milan in the time of Covid-19</td>\n",
       "      <td>2020</td>\n",
       "      <td>Italienisch</td>\n",
       "      <td>The choral work of 57 directors and filmmakers...</td>\n",
       "      <td>6.000</td>\n",
       "      <td>1</td>\n",
       "      <td>0.672</td>\n",
       "    </tr>\n",
       "    <tr>\n",
       "      <th>11996</th>\n",
       "      <td>Pink for the Masses</td>\n",
       "      <td>2023</td>\n",
       "      <td>Italienisch</td>\n",
       "      <td>NaN</td>\n",
       "      <td>10.000</td>\n",
       "      <td>1</td>\n",
       "      <td>0.671</td>\n",
       "    </tr>\n",
       "    <tr>\n",
       "      <th>11997</th>\n",
       "      <td>La fallacia del cecchino texano</td>\n",
       "      <td>2022</td>\n",
       "      <td>Italienisch</td>\n",
       "      <td>NaN</td>\n",
       "      <td>0.000</td>\n",
       "      <td>0</td>\n",
       "      <td>0.671</td>\n",
       "    </tr>\n",
       "    <tr>\n",
       "      <th>11998</th>\n",
       "      <td>Wunderkammer: World of Wonder</td>\n",
       "      <td>2019</td>\n",
       "      <td>Italienisch</td>\n",
       "      <td>What are wonders and what does it mean to coll...</td>\n",
       "      <td>8.500</td>\n",
       "      <td>1</td>\n",
       "      <td>0.671</td>\n",
       "    </tr>\n",
       "    <tr>\n",
       "      <th>11999</th>\n",
       "      <td>In fila per due</td>\n",
       "      <td>2023</td>\n",
       "      <td>Italienisch</td>\n",
       "      <td>NaN</td>\n",
       "      <td>0.000</td>\n",
       "      <td>0</td>\n",
       "      <td>0.670</td>\n",
       "    </tr>\n",
       "  </tbody>\n",
       "</table>\n",
       "<p>12000 rows × 7 columns</p>\n",
       "</div>"
      ],
      "text/plain": [
       "                                                title  release_year  \\\n",
       "0                                             Tumbbad          2018   \n",
       "1                            Uri: The Surgical Strike          2019   \n",
       "2                                              Attack          2022   \n",
       "3                                               Jawan          2023   \n",
       "4                                              Animal          2023   \n",
       "...                                               ...           ...   \n",
       "11995  The first wave - Milan in the time of Covid-19          2020   \n",
       "11996                             Pink for the Masses          2023   \n",
       "11997                 La fallacia del cecchino texano          2022   \n",
       "11998                   Wunderkammer: World of Wonder          2019   \n",
       "11999                                 In fila per due          2023   \n",
       "\n",
       "          language                                           overview  \\\n",
       "0          Indisch  India, 1918. On the outskirts of Tumbbad, a cu...   \n",
       "1          Indisch  Following the roguish terrorist attacks at Uri...   \n",
       "2          Indisch  With the Parliament under siege, India’s first...   \n",
       "3          Indisch  An emotional journey of a prison warden, drive...   \n",
       "4          Indisch  The hardened son of a powerful industrialist r...   \n",
       "...            ...                                                ...   \n",
       "11995  Italienisch  The choral work of 57 directors and filmmakers...   \n",
       "11996  Italienisch                                                NaN   \n",
       "11997  Italienisch                                                NaN   \n",
       "11998  Italienisch  What are wonders and what does it mean to coll...   \n",
       "11999  Italienisch                                                NaN   \n",
       "\n",
       "       vote_average  vote_count  popularity  \n",
       "0             7.500         240      60.379  \n",
       "1             7.067         420      53.110  \n",
       "2             6.739         203      52.842  \n",
       "3             7.200         241      43.381  \n",
       "4             6.540         101      37.667  \n",
       "...             ...         ...         ...  \n",
       "11995         6.000           1       0.672  \n",
       "11996        10.000           1       0.671  \n",
       "11997         0.000           0       0.671  \n",
       "11998         8.500           1       0.671  \n",
       "11999         0.000           0       0.670  \n",
       "\n",
       "[12000 rows x 7 columns]"
      ]
     },
     "execution_count": 4,
     "metadata": {},
     "output_type": "execute_result"
    }
   ],
   "source": [
    "# Die Filmdaten Zeigen\n",
    "# CSV-Datei in pandas DataFrame laden\n",
    "df = pd.read_csv('movies_2015_2023.csv')\n",
    "\n",
    "# Zeige die ersten Zeilen an (optional)\n",
    "\n",
    "df"
   ]
  },
  {
   "cell_type": "code",
   "execution_count": 5,
   "id": "1d11cbc7",
   "metadata": {},
   "outputs": [
    {
     "name": "stdout",
     "output_type": "stream",
     "text": [
      "Die Gesamtanzahl der Filme: 12000\n"
     ]
    }
   ],
   "source": [
    "# Anzahl der Filme (Zeilen) ermitteln\n",
    "print(f\"Die Gesamtanzahl der Filme: {len(df)}\")\n"
   ]
  },
  {
   "cell_type": "code",
   "execution_count": 6,
   "id": "c710edb4",
   "metadata": {},
   "outputs": [
    {
     "name": "stdout",
     "output_type": "stream",
     "text": [
      "title              0\n",
      "release_year       0\n",
      "language           0\n",
      "overview        1512\n",
      "vote_average       0\n",
      "vote_count         0\n",
      "popularity         0\n",
      "dtype: int64\n"
     ]
    }
   ],
   "source": [
    "# Überprüfe, ob noch NaN-Werte vorhanden sind (optional)\n",
    "print(df.isna().sum())\n"
   ]
  },
  {
   "cell_type": "code",
   "execution_count": 7,
   "id": "afe86e69",
   "metadata": {},
   "outputs": [
    {
     "name": "stdout",
     "output_type": "stream",
     "text": [
      "title              0\n",
      "release_year       0\n",
      "language           0\n",
      "overview        1512\n",
      "vote_average       0\n",
      "vote_count         0\n",
      "popularity         0\n",
      "dtype: int64\n"
     ]
    }
   ],
   "source": [
    "# df = df['overview'].dropna()\n",
    "# Entfernt alle Zeilen, bei denen der Wert in der 'overview'-Spalte NaN ist\n",
    "df['overview'] = df['overview'].dropna()\n",
    "\n",
    "# Überprüfe, ob noch NaN-Werte vorhanden sind (optional)\n",
    "print(df.isna().sum())\n"
   ]
  },
  {
   "cell_type": "code",
   "execution_count": 8,
   "id": "7b38d76e",
   "metadata": {},
   "outputs": [
    {
     "name": "stdout",
     "output_type": "stream",
     "text": [
      "title           0\n",
      "release_year    0\n",
      "language        0\n",
      "overview        0\n",
      "vote_average    0\n",
      "vote_count      0\n",
      "popularity      0\n",
      "dtype: int64\n"
     ]
    }
   ],
   "source": [
    "# Anzahl der leeren Zellen (d.h. Zellen mit einem leeren String '') pro Spalte\n",
    "empty_cells_per_column = (df == '').sum()\n",
    "\n",
    "print(empty_cells_per_column)\n"
   ]
  },
  {
   "cell_type": "code",
   "execution_count": 9,
   "id": "1dce8768",
   "metadata": {},
   "outputs": [
    {
     "name": "stdout",
     "output_type": "stream",
     "text": [
      "title           10487\n",
      "release_year    10487\n",
      "language        10487\n",
      "overview        10487\n",
      "vote_average    10487\n",
      "vote_count      10487\n",
      "popularity      10487\n",
      "dtype: int64\n"
     ]
    }
   ],
   "source": [
    "# Entfernt alle Zeilen, bei denen der Wert in der 'overview'-Spalte entweder NaN oder leer ist\n",
    "df = df[df['overview'].notna() & df['overview'].str.strip().ne('')]\n",
    "\n",
    "# Überprüfe, ob noch leere oder NaN-Werte vorhanden sind (optional)\n",
    "print(df.ne('').sum())\n"
   ]
  },
  {
   "cell_type": "code",
   "execution_count": 10,
   "id": "1ed7fca4",
   "metadata": {},
   "outputs": [
    {
     "name": "stdout",
     "output_type": "stream",
     "text": [
      "title           0\n",
      "release_year    0\n",
      "language        0\n",
      "overview        0\n",
      "vote_average    0\n",
      "vote_count      0\n",
      "popularity      0\n",
      "dtype: int64\n"
     ]
    }
   ],
   "source": [
    "# Anzahl der leeren Zellen (d.h. Zellen mit einem leeren String '') pro Spalte\n",
    "empty_cells_per_column = (df == '').sum()\n",
    "\n",
    "print(empty_cells_per_column)\n"
   ]
  },
  {
   "cell_type": "code",
   "execution_count": 11,
   "id": "414239ee",
   "metadata": {},
   "outputs": [
    {
     "data": {
      "text/html": [
       "<div>\n",
       "<style scoped>\n",
       "    .dataframe tbody tr th:only-of-type {\n",
       "        vertical-align: middle;\n",
       "    }\n",
       "\n",
       "    .dataframe tbody tr th {\n",
       "        vertical-align: top;\n",
       "    }\n",
       "\n",
       "    .dataframe thead th {\n",
       "        text-align: right;\n",
       "    }\n",
       "</style>\n",
       "<table border=\"1\" class=\"dataframe\">\n",
       "  <thead>\n",
       "    <tr style=\"text-align: right;\">\n",
       "      <th></th>\n",
       "      <th>title</th>\n",
       "      <th>release_year</th>\n",
       "      <th>language</th>\n",
       "      <th>overview</th>\n",
       "      <th>vote_average</th>\n",
       "      <th>vote_count</th>\n",
       "      <th>popularity</th>\n",
       "    </tr>\n",
       "  </thead>\n",
       "  <tbody>\n",
       "    <tr>\n",
       "      <th>0</th>\n",
       "      <td>Tumbbad</td>\n",
       "      <td>2018</td>\n",
       "      <td>Indisch</td>\n",
       "      <td>India, 1918. On the outskirts of Tumbbad, a cu...</td>\n",
       "      <td>7.500</td>\n",
       "      <td>240</td>\n",
       "      <td>60.379</td>\n",
       "    </tr>\n",
       "    <tr>\n",
       "      <th>1</th>\n",
       "      <td>Uri: The Surgical Strike</td>\n",
       "      <td>2019</td>\n",
       "      <td>Indisch</td>\n",
       "      <td>Following the roguish terrorist attacks at Uri...</td>\n",
       "      <td>7.067</td>\n",
       "      <td>420</td>\n",
       "      <td>53.110</td>\n",
       "    </tr>\n",
       "    <tr>\n",
       "      <th>2</th>\n",
       "      <td>Attack</td>\n",
       "      <td>2022</td>\n",
       "      <td>Indisch</td>\n",
       "      <td>With the Parliament under siege, India’s first...</td>\n",
       "      <td>6.739</td>\n",
       "      <td>203</td>\n",
       "      <td>52.842</td>\n",
       "    </tr>\n",
       "    <tr>\n",
       "      <th>3</th>\n",
       "      <td>Jawan</td>\n",
       "      <td>2023</td>\n",
       "      <td>Indisch</td>\n",
       "      <td>An emotional journey of a prison warden, drive...</td>\n",
       "      <td>7.200</td>\n",
       "      <td>241</td>\n",
       "      <td>43.381</td>\n",
       "    </tr>\n",
       "    <tr>\n",
       "      <th>4</th>\n",
       "      <td>Animal</td>\n",
       "      <td>2023</td>\n",
       "      <td>Indisch</td>\n",
       "      <td>The hardened son of a powerful industrialist r...</td>\n",
       "      <td>6.540</td>\n",
       "      <td>101</td>\n",
       "      <td>37.667</td>\n",
       "    </tr>\n",
       "    <tr>\n",
       "      <th>...</th>\n",
       "      <td>...</td>\n",
       "      <td>...</td>\n",
       "      <td>...</td>\n",
       "      <td>...</td>\n",
       "      <td>...</td>\n",
       "      <td>...</td>\n",
       "      <td>...</td>\n",
       "    </tr>\n",
       "    <tr>\n",
       "      <th>11992</th>\n",
       "      <td>A volte nel buio (Sometimes in the dark)</td>\n",
       "      <td>2021</td>\n",
       "      <td>Italienisch</td>\n",
       "      <td>A remote village in the mountains. A community...</td>\n",
       "      <td>4.000</td>\n",
       "      <td>2</td>\n",
       "      <td>0.673</td>\n",
       "    </tr>\n",
       "    <tr>\n",
       "      <th>11993</th>\n",
       "      <td>Departures</td>\n",
       "      <td>2018</td>\n",
       "      <td>Italienisch</td>\n",
       "      <td>Ludovico accepted the last choice of his wife,...</td>\n",
       "      <td>9.500</td>\n",
       "      <td>2</td>\n",
       "      <td>0.673</td>\n",
       "    </tr>\n",
       "    <tr>\n",
       "      <th>11994</th>\n",
       "      <td>The Coleopteran</td>\n",
       "      <td>2021</td>\n",
       "      <td>Italienisch</td>\n",
       "      <td>A disillusioned priest must deal with the disa...</td>\n",
       "      <td>0.000</td>\n",
       "      <td>0</td>\n",
       "      <td>0.672</td>\n",
       "    </tr>\n",
       "    <tr>\n",
       "      <th>11995</th>\n",
       "      <td>The first wave - Milan in the time of Covid-19</td>\n",
       "      <td>2020</td>\n",
       "      <td>Italienisch</td>\n",
       "      <td>The choral work of 57 directors and filmmakers...</td>\n",
       "      <td>6.000</td>\n",
       "      <td>1</td>\n",
       "      <td>0.672</td>\n",
       "    </tr>\n",
       "    <tr>\n",
       "      <th>11998</th>\n",
       "      <td>Wunderkammer: World of Wonder</td>\n",
       "      <td>2019</td>\n",
       "      <td>Italienisch</td>\n",
       "      <td>What are wonders and what does it mean to coll...</td>\n",
       "      <td>8.500</td>\n",
       "      <td>1</td>\n",
       "      <td>0.671</td>\n",
       "    </tr>\n",
       "  </tbody>\n",
       "</table>\n",
       "<p>10487 rows × 7 columns</p>\n",
       "</div>"
      ],
      "text/plain": [
       "                                                title  release_year  \\\n",
       "0                                             Tumbbad          2018   \n",
       "1                            Uri: The Surgical Strike          2019   \n",
       "2                                              Attack          2022   \n",
       "3                                               Jawan          2023   \n",
       "4                                              Animal          2023   \n",
       "...                                               ...           ...   \n",
       "11992        A volte nel buio (Sometimes in the dark)          2021   \n",
       "11993                                      Departures          2018   \n",
       "11994                                 The Coleopteran          2021   \n",
       "11995  The first wave - Milan in the time of Covid-19          2020   \n",
       "11998                   Wunderkammer: World of Wonder          2019   \n",
       "\n",
       "          language                                           overview  \\\n",
       "0          Indisch  India, 1918. On the outskirts of Tumbbad, a cu...   \n",
       "1          Indisch  Following the roguish terrorist attacks at Uri...   \n",
       "2          Indisch  With the Parliament under siege, India’s first...   \n",
       "3          Indisch  An emotional journey of a prison warden, drive...   \n",
       "4          Indisch  The hardened son of a powerful industrialist r...   \n",
       "...            ...                                                ...   \n",
       "11992  Italienisch  A remote village in the mountains. A community...   \n",
       "11993  Italienisch  Ludovico accepted the last choice of his wife,...   \n",
       "11994  Italienisch  A disillusioned priest must deal with the disa...   \n",
       "11995  Italienisch  The choral work of 57 directors and filmmakers...   \n",
       "11998  Italienisch  What are wonders and what does it mean to coll...   \n",
       "\n",
       "       vote_average  vote_count  popularity  \n",
       "0             7.500         240      60.379  \n",
       "1             7.067         420      53.110  \n",
       "2             6.739         203      52.842  \n",
       "3             7.200         241      43.381  \n",
       "4             6.540         101      37.667  \n",
       "...             ...         ...         ...  \n",
       "11992         4.000           2       0.673  \n",
       "11993         9.500           2       0.673  \n",
       "11994         0.000           0       0.672  \n",
       "11995         6.000           1       0.672  \n",
       "11998         8.500           1       0.671  \n",
       "\n",
       "[10487 rows x 7 columns]"
      ]
     },
     "execution_count": 11,
     "metadata": {},
     "output_type": "execute_result"
    }
   ],
   "source": [
    "df"
   ]
  },
  {
   "cell_type": "code",
   "execution_count": 12,
   "id": "fa3457af",
   "metadata": {},
   "outputs": [
    {
     "name": "stdout",
     "output_type": "stream",
     "text": [
      "Die Gesamtanzahl der Filme: 10487\n"
     ]
    }
   ],
   "source": [
    "# Anzahl der Filme (Zeilen) ermitteln\n",
    "print(f\"Die Gesamtanzahl der Filme: {len(df)}\")"
   ]
  },
  {
   "cell_type": "markdown",
   "id": "e3613682",
   "metadata": {},
   "source": [
    "## EDA"
   ]
  },
  {
   "cell_type": "code",
   "execution_count": 13,
   "id": "9033e728",
   "metadata": {},
   "outputs": [
    {
     "data": {
      "text/html": [
       "<div>\n",
       "<style scoped>\n",
       "    .dataframe tbody tr th:only-of-type {\n",
       "        vertical-align: middle;\n",
       "    }\n",
       "\n",
       "    .dataframe tbody tr th {\n",
       "        vertical-align: top;\n",
       "    }\n",
       "\n",
       "    .dataframe thead th {\n",
       "        text-align: right;\n",
       "    }\n",
       "</style>\n",
       "<table border=\"1\" class=\"dataframe\">\n",
       "  <thead>\n",
       "    <tr style=\"text-align: right;\">\n",
       "      <th></th>\n",
       "      <th>release_year</th>\n",
       "      <th>vote_average</th>\n",
       "      <th>vote_count</th>\n",
       "      <th>popularity</th>\n",
       "    </tr>\n",
       "  </thead>\n",
       "  <tbody>\n",
       "    <tr>\n",
       "      <th>count</th>\n",
       "      <td>10487.000000</td>\n",
       "      <td>10487.000000</td>\n",
       "      <td>10487.000000</td>\n",
       "      <td>10487.000000</td>\n",
       "    </tr>\n",
       "    <tr>\n",
       "      <th>mean</th>\n",
       "      <td>2019.614666</td>\n",
       "      <td>5.374756</td>\n",
       "      <td>515.165920</td>\n",
       "      <td>10.599459</td>\n",
       "    </tr>\n",
       "    <tr>\n",
       "      <th>std</th>\n",
       "      <td>2.678847</td>\n",
       "      <td>2.525562</td>\n",
       "      <td>1858.020471</td>\n",
       "      <td>18.907564</td>\n",
       "    </tr>\n",
       "    <tr>\n",
       "      <th>min</th>\n",
       "      <td>2015.000000</td>\n",
       "      <td>0.000000</td>\n",
       "      <td>0.000000</td>\n",
       "      <td>0.119000</td>\n",
       "    </tr>\n",
       "    <tr>\n",
       "      <th>25%</th>\n",
       "      <td>2017.000000</td>\n",
       "      <td>5.000000</td>\n",
       "      <td>2.000000</td>\n",
       "      <td>1.881500</td>\n",
       "    </tr>\n",
       "    <tr>\n",
       "      <th>50%</th>\n",
       "      <td>2020.000000</td>\n",
       "      <td>6.100000</td>\n",
       "      <td>24.000000</td>\n",
       "      <td>4.019000</td>\n",
       "    </tr>\n",
       "    <tr>\n",
       "      <th>75%</th>\n",
       "      <td>2022.000000</td>\n",
       "      <td>6.900000</td>\n",
       "      <td>159.000000</td>\n",
       "      <td>10.723000</td>\n",
       "    </tr>\n",
       "    <tr>\n",
       "      <th>max</th>\n",
       "      <td>2023.000000</td>\n",
       "      <td>10.000000</td>\n",
       "      <td>30749.000000</td>\n",
       "      <td>353.267000</td>\n",
       "    </tr>\n",
       "  </tbody>\n",
       "</table>\n",
       "</div>"
      ],
      "text/plain": [
       "       release_year  vote_average    vote_count    popularity\n",
       "count  10487.000000  10487.000000  10487.000000  10487.000000\n",
       "mean    2019.614666      5.374756    515.165920     10.599459\n",
       "std        2.678847      2.525562   1858.020471     18.907564\n",
       "min     2015.000000      0.000000      0.000000      0.119000\n",
       "25%     2017.000000      5.000000      2.000000      1.881500\n",
       "50%     2020.000000      6.100000     24.000000      4.019000\n",
       "75%     2022.000000      6.900000    159.000000     10.723000\n",
       "max     2023.000000     10.000000  30749.000000    353.267000"
      ]
     },
     "execution_count": 13,
     "metadata": {},
     "output_type": "execute_result"
    }
   ],
   "source": [
    "# Summary statistics\n",
    "summary_stats = df.describe()\n",
    "summary_stats"
   ]
  },
  {
   "cell_type": "code",
   "execution_count": 14,
   "id": "5a879f8a",
   "metadata": {},
   "outputs": [
    {
     "name": "stdout",
     "output_type": "stream",
     "text": [
      "language\n",
      "Amerikanisch    2000\n",
      "Indisch         1922\n",
      "Spanisch        1785\n",
      "Französisch     1784\n",
      "Deutsch         1552\n",
      "Italienisch     1444\n",
      "Name: count, dtype: int64\n"
     ]
    }
   ],
   "source": [
    "# Anzahl der Filme in jeder Sprache\n",
    "language_counts = df['language'].value_counts()\n",
    "\n",
    "# Ausgabe der Anzahl der Filme pro Sprache\n",
    "print(language_counts)\n"
   ]
  },
  {
   "cell_type": "code",
   "execution_count": 15,
   "id": "f6918707",
   "metadata": {},
   "outputs": [
    {
     "data": {
      "image/png": "[encoded data removed]",
      "text/plain": [
       "<Figure size 1000x600 with 1 Axes>"
      ]
     },
     "metadata": {},
     "output_type": "display_data"
    }
   ],
   "source": [
    "\n",
    "# Zähle die Anzahl der Filme pro Sprache\n",
    "language_counts = df['language'].value_counts()\n",
    "\n",
    "# Visualisiere die Anzahl der Filme pro Sprache als Balkendiagramm\n",
    "plt.figure(figsize=(10, 6))\n",
    "language_counts.plot(kind='bar', color='skyblue')\n",
    "plt.title('Anzahl der Filme pro Sprache')\n",
    "plt.xlabel('Sprache')\n",
    "plt.ylabel('Anzahl der Filme')\n",
    "plt.xticks(rotation=45)\n",
    "plt.show()\n"
   ]
  },
  {
   "cell_type": "code",
   "execution_count": 16,
   "id": "d7e2fd5f",
   "metadata": {},
   "outputs": [
    {
     "name": "stderr",
     "output_type": "stream",
     "text": [
      "C:\\Users\\rawan\\AppData\\Local\\Temp\\ipykernel_12684\\201898807.py:3: FutureWarning: \n",
      "\n",
      "Passing `palette` without assigning `hue` is deprecated and will be removed in v0.14.0. Assign the `x` variable to `hue` and set `legend=False` for the same effect.\n",
      "\n",
      "  sns.countplot(x='release_year', data=df, palette='viridis')\n"
     ]
    },
    {
     "data": {
      "image/png": "[encoded data removed]",
      "text/plain": [
       "<Figure size 1000x600 with 1 Axes>"
      ]
     },
     "metadata": {},
     "output_type": "display_data"
    }
   ],
   "source": [
    "# Anzahl der Filme pro Jahr (Trend)\n",
    "plt.figure(figsize=(10, 6))\n",
    "sns.countplot(x='release_year', data=df, palette='viridis')\n",
    "plt.title('Anzahl der Filme pro Jahr')\n",
    "plt.xticks(rotation=45)\n",
    "plt.show()"
   ]
  },
  {
   "cell_type": "code",
   "execution_count": 17,
   "id": "e806114e",
   "metadata": {},
   "outputs": [
    {
     "data": {
      "image/png": "[encoded data removed]",
      "text/plain": [
       "<Figure size 1200x800 with 1 Axes>"
      ]
     },
     "metadata": {},
     "output_type": "display_data"
    }
   ],
   "source": [
    "# Anzahl der Filme pro Jahr für jede Sprache plotten\n",
    "plt.figure(figsize=(12, 8))\n",
    "\n",
    "# Wir verwenden eine Palette für die Farben und plotten die Filme pro Jahr und Sprache\n",
    "sns.countplot(x='release_year', hue='language', data=df, palette='Set2')\n",
    "\n",
    "plt.title('Anzahl der Filme pro Jahr für jede Sprache')\n",
    "plt.xlabel('Erscheinungsjahr')\n",
    "plt.ylabel('Anzahl der Filme')\n",
    "plt.xticks(rotation=45)\n",
    "plt.legend(title='Sprache', bbox_to_anchor=(1.05, 1), loc='upper left')\n",
    "\n",
    "plt.show()\n"
   ]
  },
  {
   "cell_type": "markdown",
   "id": "9af405e6",
   "metadata": {},
   "source": [
    "## Preprocessing"
   ]
  },
  {
   "cell_type": "code",
   "execution_count": 18,
   "id": "0f806014",
   "metadata": {},
   "outputs": [
    {
     "name": "stderr",
     "output_type": "stream",
     "text": [
      "C:\\Users\\rawan\\AppData\\Local\\Temp\\ipykernel_12684\\1955189089.py:12: SettingWithCopyWarning: \n",
      "A value is trying to be set on a copy of a slice from a DataFrame.\n",
      "Try using .loc[row_indexer,col_indexer] = value instead\n",
      "\n",
      "See the caveats in the documentation: https://pandas.pydata.org/pandas-docs/stable/user_guide/indexing.html#returning-a-view-versus-a-copy\n",
      "  df['clean_overview'] = df['overview'].apply(preprocess_text)\n"
     ]
    }
   ],
   "source": [
    "\n",
    "def preprocess_text(text):\n",
    "    # Kleinbuchstaben umwandeln\n",
    "    text = text.lower()\n",
    "    # Entferne Sonderzeichen\n",
    "    text = re.sub(r'\\W', ' ', text)\n",
    "    # Tokenisierung mit spaCy\n",
    "    doc = nlp(text)\n",
    "    tokens = [token.lemma_ for token in doc if not token.is_stop]\n",
    "    return ' '.join(tokens)\n",
    "\n",
    "# Preprocessing anwenden auf die \"overview\"-Spalte\n",
    "df['clean_overview'] = df['overview'].apply(preprocess_text)\n",
    "\n",
    "# 3. Vektorisierung mit TF-IDF\n",
    "vectorizer = TfidfVectorizer(max_features=5000)\n",
    "X = vectorizer.fit_transform(df['clean_overview'])\n",
    "\n",
    "# 4. Labels (die Sprache des Films)\n",
    "y = df['language']\n",
    "\n",
    "# 5. Daten in Trainings- und Testsets aufteilen\n",
    "X_train, X_test, y_train, y_test = train_test_split(X, y, test_size=0.2, random_state=42)\n",
    "\n"
   ]
  },
  {
   "cell_type": "code",
   "execution_count": 19,
   "id": "4dae0231",
   "metadata": {},
   "outputs": [
    {
     "data": {
      "text/plain": [
       "0        india   1918   outskirt tumbbad   cursed villa...\n",
       "1        follow roguish terrorist attack uri army base ...\n",
       "2        parliament siege   india s super soldier arjun...\n",
       "3        emotional journey prison warden   drive person...\n",
       "4        harden son powerful industrialist return home ...\n",
       "                               ...                        \n",
       "11992    remote village mountain   community affect mys...\n",
       "11993    ludovico accept choice wife   love   find cour...\n",
       "11994    disillusioned priest deal disappearance pin in...\n",
       "11995    choral work 57 director filmmaker tell story m...\n",
       "11998    wonder mean collect   wunderkammer    know cab...\n",
       "Name: clean_overview, Length: 10487, dtype: object"
      ]
     },
     "execution_count": 19,
     "metadata": {},
     "output_type": "execute_result"
    }
   ],
   "source": [
    "df['clean_overview']"
   ]
  },
  {
   "cell_type": "markdown",
   "id": "9776261a",
   "metadata": {},
   "source": [
    "## Feature Engineering"
   ]
  },
  {
   "cell_type": "code",
   "execution_count": null,
   "id": "0ff3f2ee",
   "metadata": {},
   "outputs": [],
   "source": []
  },
  {
   "cell_type": "code",
   "execution_count": null,
   "id": "ff5e2918",
   "metadata": {},
   "outputs": [],
   "source": []
  },
  {
   "cell_type": "markdown",
   "id": "97776e76",
   "metadata": {},
   "source": [
    "## Models"
   ]
  },
  {
   "cell_type": "markdown",
   "id": "f77ed4ac",
   "metadata": {},
   "source": [
    "Readme, envirenment, code kommentieren"
   ]
  },
  {
   "cell_type": "code",
   "execution_count": null,
   "id": "1bc28989",
   "metadata": {},
   "outputs": [],
   "source": []
  }
 ],
 "metadata": {
  "kernelspec": {
   "display_name": "Python 3 (ipykernel)",
   "language": "python",
   "name": "python3"
  },
  "language_info": {
   "codemirror_mode": {
    "name": "ipython",
    "version": 3
   },
   "file_extension": ".py",
   "mimetype": "text/x-python",
   "name": "python",
   "nbconvert_exporter": "python",
   "pygments_lexer": "ipython3",
   "version": "3.11.9"
  }
 },
 "nbformat": 4,
 "nbformat_minor": 5
}
